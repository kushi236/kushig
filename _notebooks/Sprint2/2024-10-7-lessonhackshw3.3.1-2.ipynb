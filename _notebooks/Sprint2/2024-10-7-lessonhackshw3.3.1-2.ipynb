{
 "cells": [
  {
   "cell_type": "markdown",
   "metadata": {},
   "source": [
    "---\n",
    "layout: post\n",
    "title: Homeworks\n",
    "courses: {compsci: {week: 6}}\n",
    "type: hacks\n",
    "toc: False\n",
    "---\n"
   ]
  },
  {
   "cell_type": "code",
   "execution_count": 2,
   "metadata": {},
   "outputs": [],
   "source": [
    "### Lesson 3.3.1 - 2 Popcorn hacks and 4 Homework hacks\n"
   ]
  },
  {
   "cell_type": "code",
   "execution_count": 3,
   "metadata": {},
   "outputs": [
    {
     "name": "stdout",
     "output_type": "stream",
     "text": [
      "3\n"
     ]
    }
   ],
   "source": [
    "# python hack 3\n",
    "\n",
    "n= int(input())\n",
    "\n",
    "total_sum = 0\n",
    "\n",
    "for i in range(1, n + 1):\n",
    "    total_sum += i\n",
    "\n",
    "print(total_sum)"
   ]
  },
  {
   "cell_type": "code",
   "execution_count": 4,
   "metadata": {
    "vscode": {
     "languageId": "javascript"
    }
   },
   "outputs": [
    {
     "data": {
      "application/javascript": "//Javascript hack 1 \n\nfunction calculate() {\n    let result = (8 * 4) - 5 + (10 / 2);\n    return result;\n  }\n  \n  console.log(calculate());\n32\n",
      "text/plain": [
       "<IPython.core.display.Javascript object>"
      ]
     },
     "metadata": {},
     "output_type": "display_data"
    }
   ],
   "source": [
    "%%js\n",
    "//Javascript hack 1 \n",
    "\n",
    "function calculate() {\n",
    "    let result = (8 * 4) - 5 + (10 / 2);\n",
    "    return result;\n",
    "  }\n",
    "  \n",
    "  console.log(calculate());\n",
    "32"
   ]
  },
  {
   "cell_type": "code",
   "execution_count": 5,
   "metadata": {
    "vscode": {
     "languageId": "javascript"
    }
   },
   "outputs": [
    {
     "data": {
      "application/javascript": "//Javascript Homework Hack 1 \n\nfunction gcdLcm(a, b) {\n    let gcd = function(x, y) {\n        while (y !== 0) {\n            let temp = y;\n            y = x % y;\n            x = temp;\n        }\n        return x;\n    };\n    const gcdValue = gcd(a, b);\n    \n    const lcmValue = (a * b) / gcdValue;  // LCM formula\n\n    return { GCD: gcdValue, LCM: lcmValue };\n}\nconst result = gcdLcm(12, 15);\nconsole.log(result);  // { GCD: 3, LCM: 60 }\n",
      "text/plain": [
       "<IPython.core.display.Javascript object>"
      ]
     },
     "metadata": {},
     "output_type": "display_data"
    }
   ],
   "source": [
    "%%js\n",
    "//Javascript Homework Hack 1 \n",
    "\n",
    "function gcdLcm(a, b) {\n",
    "    let gcd = function(x, y) {\n",
    "        while (y !== 0) {\n",
    "            let temp = y;\n",
    "            y = x % y;\n",
    "            x = temp;\n",
    "        }\n",
    "        return x;\n",
    "    };\n",
    "    const gcdValue = gcd(a, b);\n",
    "    \n",
    "    const lcmValue = (a * b) / gcdValue;  // LCM formula\n",
    "\n",
    "    return { GCD: gcdValue, LCM: lcmValue };\n",
    "}\n",
    "const result = gcdLcm(12, 15);\n",
    "console.log(result);  // { GCD: 3, LCM: 60 }\n"
   ]
  },
  {
   "cell_type": "code",
   "execution_count": 6,
   "metadata": {
    "vscode": {
     "languageId": "javascript"
    }
   },
   "outputs": [
    {
     "data": {
      "application/javascript": "//Javascript Homework Hack 2\n\nfunction primeFactors(n) {\n    const factors = [];\n    \n    while (n % 2 === 0) {\n        factors.push(2);\n        n /= 2;\n    }\n    \n    for (let i = 3; i <= Math.sqrt(n); i += 2) {\n        while (n % i === 0) {\n            factors.push(i);\n            n /= i;\n        }\n    }\n    if (n > 2) {\n        factors.push(n);\n    }\n    \n    return factors;\n}\n\n// Example usage\nconst testNumber = 28;\nconst result = primeFactors(testNumber);\nconsole.log(result); // Output: [2, 2, 7]\n",
      "text/plain": [
       "<IPython.core.display.Javascript object>"
      ]
     },
     "metadata": {},
     "output_type": "display_data"
    }
   ],
   "source": [
    "%%js \n",
    "//Javascript Homework Hack 2\n",
    "\n",
    "function primeFactors(n) {\n",
    "    const factors = [];\n",
    "    \n",
    "    while (n % 2 === 0) {\n",
    "        factors.push(2);\n",
    "        n /= 2;\n",
    "    }\n",
    "    \n",
    "    for (let i = 3; i <= Math.sqrt(n); i += 2) {\n",
    "        while (n % i === 0) {\n",
    "            factors.push(i);\n",
    "            n /= i;\n",
    "        }\n",
    "    }\n",
    "    if (n > 2) {\n",
    "        factors.push(n);\n",
    "    }\n",
    "    \n",
    "    return factors;\n",
    "}\n",
    "\n",
    "// Example usage\n",
    "const testNumber = 28;\n",
    "const result = primeFactors(testNumber);\n",
    "console.log(result); // Output: [2, 2, 7]"
   ]
  },
  {
   "cell_type": "code",
   "execution_count": 7,
   "metadata": {
    "vscode": {
     "languageId": "javascript"
    }
   },
   "outputs": [
    {
     "name": "stdout",
     "output_type": "stream",
     "text": [
      "Mean: 18.0\n",
      "Median: 15.5\n"
     ]
    }
   ],
   "source": [
    "# Python Homework Hack 1\n",
    "\n",
    "def calculate_mean_and_median(numbers):\n",
    "   \n",
    "    mean = sum(numbers) / len(numbers)\n",
    "\n",
    "    sorted_numbers = sorted(numbers)\n",
    "    n = len(sorted_numbers)\n",
    "    mid = n // 2\n",
    "\n",
    "    median = (sorted_numbers[mid] if n % 2 != 0 else (sorted_numbers[mid - 1] + sorted_numbers[mid]) / 2)\n",
    "\n",
    "    print(\"Mean:\", mean)\n",
    "    print(\"Median:\", median)\n",
    "\n",
    "numbers = [4, 8, 15, 16, 23, 42]\n",
    "calculate_mean_and_median(numbers)"
   ]
  },
  {
   "cell_type": "code",
   "execution_count": 9,
   "metadata": {},
   "outputs": [
    {
     "name": "stdout",
     "output_type": "stream",
     "text": [
      "[6, 3, 10, 5, 16, 8, 4, 2, 1]\n"
     ]
    }
   ],
   "source": [
    "# Python Homework Hack 2\n",
    "\n",
    "def collatz_sequence(a):\n",
    "\n",
    "    sequence = []\n",
    "    \n",
    "    while a != 1:\n",
    "\n",
    "        sequence.append(a)\n",
    "        \n",
    "        if a % 2 == 0:\n",
    "            a = a // 2  \n",
    "        else:\n",
    "            a = 3 * a + 1  \n",
    "            \n",
    "    sequence.append(1)\n",
    "    \n",
    "    return sequence\n",
    "\n",
    "test_value = 6\n",
    "output = collatz_sequence(test_value)\n",
    "print(output)"
   ]
  }
 ],
 "metadata": {
  "kernelspec": {
   "display_name": "venv",
   "language": "python",
   "name": "python3"
  },
  "language_info": {
   "codemirror_mode": {
    "name": "ipython",
    "version": 3
   },
   "file_extension": ".py",
   "mimetype": "text/x-python",
   "name": "python",
   "nbconvert_exporter": "python",
   "pygments_lexer": "ipython3",
   "version": "3.12.6"
  }
 },
 "nbformat": 4,
 "nbformat_minor": 2
}
