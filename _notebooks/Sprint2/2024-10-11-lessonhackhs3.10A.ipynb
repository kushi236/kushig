{
 "cells": [
  {
   "cell_type": "markdown",
   "metadata": {},
   "source": [
    "---\n",
    "layout: post\n",
    "title: Homeworks 3.10A\n",
    "courses: {compsci: {week: 7}}\n",
    "type: hacks\n",
    "toc: False\n",
    "---"
   ]
  },
  {
   "cell_type": "markdown",
   "metadata": {},
   "source": [
    "Popcorn Hack: 3.10.1 Hack 1 Javascript\n",
    "\n",
    "Use a_list.append(user_input) to append each item.\n",
    "\n",
    "Use a for loop to print out each item in the list at the end.\n",
    "\n",
    "Exercise: Build a Shopping List with JavaScript\n",
    "\n",
    "In this exercise, you will create a simple shopping list application that allows users to add items to a list and display them at the end.\n",
    "\n"
   ]
  },
  {
   "cell_type": "code",
   "execution_count": 8,
   "metadata": {
    "vscode": {
     "languageId": "javascript"
    }
   },
   "outputs": [
    {
     "data": {
      "application/javascript": "// Create an empty array to hold the shopping list\nlet aList = [];\n\n// Add predefined items to the list\naList.push(\"strawberries\");\naList.push(\"table\");\naList.push(\"milk\");\naList.push(\"bread\");\n\n// Function to display the entire shopping list\nfunction showList() {\n    if (aList.length > 0) {\n        console.log(\"Your shopping list contains:\");\n        for (let i = 0; i < aList.length; i++) {\n            console.log((i + 1) + \". \" + aList[i]);  // Display the list items\n        }\n    } else {\n        console.log(\"Your shopping list is empty.\");\n    }\n}\n\n// Display the list after adding items\nshowList();\n",
      "text/plain": [
       "<IPython.core.display.Javascript object>"
      ]
     },
     "metadata": {},
     "output_type": "display_data"
    }
   ],
   "source": [
    "%%js  \n",
    "// Create an empty array to hold the shopping list\n",
    "let aList = [];\n",
    "\n",
    "// Add predefined items to the list\n",
    "aList.push(\"strawberries\");\n",
    "aList.push(\"table\");\n",
    "aList.push(\"milk\");\n",
    "aList.push(\"bread\");\n",
    "\n",
    "// Function to display the entire shopping list\n",
    "function showList() {\n",
    "    if (aList.length > 0) {\n",
    "        console.log(\"Your shopping list contains:\");\n",
    "        for (let i = 0; i < aList.length; i++) {\n",
    "            console.log((i + 1) + \". \" + aList[i]);  // Display the list items\n",
    "        }\n",
    "    } else {\n",
    "        console.log(\"Your shopping list is empty.\");\n",
    "    }\n",
    "}\n",
    "\n",
    "// Display the list after adding items\n",
    "showList();\n"
   ]
  },
  {
   "cell_type": "markdown",
   "metadata": {},
   "source": [
    "Popcorn Hack 2 Python: Accessing and Deleting Elements\n",
    "\n",
    "Create a list/array named aList.\n",
    "\n",
    "Input items into the list/array. After the user is done adding items, display the second element (if it exists) in the list/array.\n",
    "\n",
    "After adding items to the list/array, delete the second element (if it exists) and display the updated list/array."
   ]
  },
  {
   "cell_type": "code",
   "execution_count": 7,
   "metadata": {},
   "outputs": [
    {
     "name": "stdout",
     "output_type": "stream",
     "text": [
      "Second element: banana\n",
      "Updated list after deleting the second element: ['apple', 'grape', 'car', 'pencil']\n"
     ]
    }
   ],
   "source": [
    "# Create a list with some random elements\n",
    "a_list = [\"apple\", \"banana\", \"grape\", \"car\", \"pencil\"]\n",
    "\n",
    "# Display the second element if it exists\n",
    "if len(a_list) > 1:\n",
    "    print(\"Second element:\", a_list[1])\n",
    "else:\n",
    "    print(\"There is no second element in the list.\")\n",
    "\n",
    "# Delete the second element if it exists and display the updated list\n",
    "if len(a_list) > 1:\n",
    "    del a_list[1]\n",
    "    print(\"Updated list after deleting the second element:\", a_list)\n",
    "else:\n",
    "    print(\"No second element to delete. Here's the list:\", a_list)\n"
   ]
  },
  {
   "cell_type": "markdown",
   "metadata": {},
   "source": [
    "Popcorn Hack 3 Javascript: Assigning Values to a List and Finding Its Length\n",
    "\n",
    "Create a list of your five favorite foods.\n",
    "\n",
    "Add two more items to your list using the .push() method.\n",
    "\n",
    "Find and print the total number of items in the list using .length\n"
   ]
  },
  {
   "cell_type": "code",
   "execution_count": 10,
   "metadata": {
    "vscode": {
     "languageId": "javascript"
    }
   },
   "outputs": [
    {
     "data": {
      "application/javascript": "// Create a list of five favorite foods\nlet favoriteFoods = [\"pizza\", \"sushi\", \"pasta\", \"ice cream\", \"burger\"];\n\n// Add two more items using .push()\nfavoriteFoods.push(\"tacos\");\nfavoriteFoods.push(\"salad\");\n\n// Find and print the total number of items in the list using .length\nlet totalItems = favoriteFoods.length;\nconsole.log(\"Total number of favorite foods: \" + totalItems);\n",
      "text/plain": [
       "<IPython.core.display.Javascript object>"
      ]
     },
     "metadata": {},
     "output_type": "display_data"
    }
   ],
   "source": [
    "%%js\n",
    "// Create a list of five favorite foods\n",
    "let favoriteFoods = [\"pizza\", \"sushi\", \"pasta\", \"ice cream\", \"burger\"];\n",
    "\n",
    "// Add two more items using .push()\n",
    "favoriteFoods.push(\"tacos\");\n",
    "favoriteFoods.push(\"salad\");\n",
    "\n",
    "// Find and print the total number of items in the list using .length\n",
    "let totalItems = favoriteFoods.length;\n",
    "console.log(\"Total number of favorite foods: \" + totalItems);\n"
   ]
  },
  {
   "cell_type": "markdown",
   "metadata": {},
   "source": [
    "Popcorn Hack 4 Python : Find the sum of all the even numbers of a list called nums with integers using the previous list opperations.Define your list and define a variable to represent a potential value.\n"
   ]
  },
  {
   "cell_type": "code",
   "execution_count": 11,
   "metadata": {},
   "outputs": [
    {
     "name": "stdout",
     "output_type": "stream",
     "text": [
      "The sum of all even numbers in the list is: 30\n"
     ]
    }
   ],
   "source": [
    "# Define the list of integers\n",
    "nums = [1, 2, 3, 4, 5, 6, 7, 8, 9, 10]\n",
    "\n",
    "# Initialize a variable to store the sum of even numbers\n",
    "sum_of_evens = 0\n",
    "\n",
    "# Iterate through the list to find even numbers and sum them\n",
    "for num in nums:\n",
    "    if num % 2 == 0:  # Check if the number is even\n",
    "        sum_of_evens += num  # Add the even number to the sum\n",
    "\n",
    "# Print the result\n",
    "print(\"The sum of all even numbers in the list is:\", sum_of_evens)\n"
   ]
  },
  {
   "cell_type": "markdown",
   "metadata": {},
   "source": [
    "Popcorn Hack 5 Javascript : Look for the element “banana” in the list “fruits” using If Else Statements"
   ]
  },
  {
   "cell_type": "code",
   "execution_count": 12,
   "metadata": {
    "vscode": {
     "languageId": "javascript"
    }
   },
   "outputs": [
    {
     "data": {
      "application/javascript": "// Define the list of fruits\nlet fruits = [\"apple\", \"orange\", \"banana\", \"grape\", \"kiwi\"];\n\n// Check if \"banana\" is in the fruits array\nif (fruits.includes(\"banana\")) {\n    console.log(\"Banana is in the list!\");\n} else {\n    console.log(\"Banana is not in the list.\");\n}\n",
      "text/plain": [
       "<IPython.core.display.Javascript object>"
      ]
     },
     "metadata": {},
     "output_type": "display_data"
    }
   ],
   "source": [
    "%%js\n",
    "// Define the list of fruits\n",
    "let fruits = [\"apple\", \"orange\", \"banana\", \"grape\", \"kiwi\"];\n",
    "\n",
    "// Check if \"banana\" is in the fruits array\n",
    "if (fruits.includes(\"banana\")) {\n",
    "    console.log(\"Banana is in the list!\");\n",
    "} else {\n",
    "    console.log(\"Banana is not in the list.\");\n",
    "}\n"
   ]
  },
  {
   "cell_type": "markdown",
   "metadata": {},
   "source": [
    "Homework Hack 1: \n",
    "Write a Python program that creates a list of the following numbers: 10, 20, 30, 40, 50. Then, print the second element in the list."
   ]
  },
  {
   "cell_type": "code",
   "execution_count": 13,
   "metadata": {},
   "outputs": [
    {
     "name": "stdout",
     "output_type": "stream",
     "text": [
      "20\n"
     ]
    }
   ],
   "source": [
    "# Create a list of numbers\n",
    "numbers = [10, 20, 30, 40, 50]\n",
    "\n",
    "# Print the second element in the list\n",
    "print(numbers[1])  # Index 1 corresponds to the second element\n"
   ]
  },
  {
   "cell_type": "markdown",
   "metadata": {},
   "source": [
    "Homework Hack 2: Write a JavaScript program that creates an array of the following numbers: 10, 20, 30, 40, 50. Then, log the second element in the array to the console."
   ]
  },
  {
   "cell_type": "code",
   "execution_count": 14,
   "metadata": {
    "vscode": {
     "languageId": "javascript"
    }
   },
   "outputs": [
    {
     "data": {
      "application/javascript": "// Create an array of numbers\nconst numbers = [10, 20, 30, 40, 50];\n\n// Log the second element in the array to the console\nconsole.log(numbers[1]); // Index 1 corresponds to the second element\n",
      "text/plain": [
       "<IPython.core.display.Javascript object>"
      ]
     },
     "metadata": {},
     "output_type": "display_data"
    }
   ],
   "source": [
    "%%js \n",
    "// Create an array of numbers\n",
    "const numbers = [10, 20, 30, 40, 50];\n",
    "\n",
    "// Log the second element in the array to the console\n",
    "console.log(numbers[1]); // Index 1 corresponds to the second element\n"
   ]
  },
  {
   "cell_type": "markdown",
   "metadata": {},
   "source": [
    "Homework Hack 3: Python: Create a to-do list in whcih users can add, remove, and view items in their list."
   ]
  },
  {
   "cell_type": "code",
   "execution_count": 1,
   "metadata": {},
   "outputs": [
    {
     "name": "stdout",
     "output_type": "stream",
     "text": [
      "Options: (1) Add Item, (2) Remove Item, (3) View List, (4) Quit\n",
      "'2' added to the list!\n",
      "\n",
      "Options: (1) Add Item, (2) Remove Item, (3) View List, (4) Quit\n",
      "Your To-Do List:\n",
      "1. 2\n",
      "\n",
      "Options: (1) Add Item, (2) Remove Item, (3) View List, (4) Quit\n",
      "Goodbye!\n"
     ]
    }
   ],
   "source": [
    "# Initialize an empty to-do list\n",
    "todo_list = []\n",
    "\n",
    "# Function to display the to-do list\n",
    "def display_list():\n",
    "    if not todo_list:\n",
    "        print(\"Your To-Do List is currently empty.\")\n",
    "    else:\n",
    "        print(\"Your To-Do List:\")\n",
    "        for index, item in enumerate(todo_list, start=1):\n",
    "            print(f\"{index}. {item}\")\n",
    "    print()  # For better readability\n",
    "\n",
    "# Main program loop\n",
    "while True:\n",
    "    # Display options for the user\n",
    "    print(\"Options: (1) Add Item, (2) Remove Item, (3) View List, (4) Quit\")\n",
    "    choice = input(\"Please select an option: \")\n",
    "\n",
    "    if choice == '1':  # Add item\n",
    "        item = input(\"Enter the item to add: \")\n",
    "        todo_list.append(item)\n",
    "        print(f\"'{item}' added to the list!\\n\")\n",
    "\n",
    "    elif choice == '2':  # Remove item\n",
    "        display_list()\n",
    "        try:\n",
    "            index = int(input(\"Enter the number of the item to remove: \")) - 1\n",
    "            removed_item = todo_list.pop(index)\n",
    "            print(f\"'{removed_item}' removed from the list!\\n\")\n",
    "        except (IndexError, ValueError):\n",
    "            print(\"Invalid number. Please try again.\\n\")\n",
    "\n",
    "    elif choice == '3':  # View list\n",
    "        display_list()\n",
    "\n",
    "    elif choice == '4':  # Quit\n",
    "        print(\"Goodbye!\")\n",
    "        break\n",
    "\n",
    "    else:\n",
    "        print(\"Invalid option. Please choose a valid number (1-4).\\n\")\n"
   ]
  },
  {
   "cell_type": "markdown",
   "metadata": {},
   "source": [
    "Homework Hack 4: JavaScript: Create a workout tracker where users can log their workouts, including type, duration, and calories burned.\n"
   ]
  },
  {
   "cell_type": "code",
   "execution_count": 3,
   "metadata": {
    "vscode": {
     "languageId": "javascript"
    }
   },
   "outputs": [
    {
     "data": {
      "application/javascript": "// Initialize an empty workout log array\nlet workoutLog = [];\n\n// Function to log a workout\nfunction logWorkout(type, duration, caloriesBurned) {\n    let workout = {\n        type: type,\n        duration: duration, // duration in minutes\n        calories: caloriesBurned // calories burned\n    };\n    workoutLog.push(workout);\n    console.log(`${type} workout of ${duration} minutes and ${caloriesBurned} calories burned added to the log.`);\n}\n\n// Function to display all workouts\nfunction displayWorkouts() {\n    if (workoutLog.length === 0) {\n        console.log(\"No workouts logged yet.\");\n    } else {\n        console.log(\"Workout Log:\");\n        workoutLog.forEach((workout, index) => {\n            console.log(`${index + 1}. Type: ${workout.type}, Duration: ${workout.duration} minutes, Calories Burned: ${workout.calories}`);\n        });\n    }\n}\n\n// Example usage\nlogWorkout(\"Running\", 45, 400);\nlogWorkout(\"Cycling\", 60, 500);\nlogWorkout(\"Yoga\", 30, 150);\n\ndisplayWorkouts();\n",
      "text/plain": [
       "<IPython.core.display.Javascript object>"
      ]
     },
     "metadata": {},
     "output_type": "display_data"
    }
   ],
   "source": [
    "%%js \n",
    "// Initialize an empty workout log array\n",
    "let workoutLog = [];\n",
    "\n",
    "// Function to log a workout\n",
    "function logWorkout(type, duration, caloriesBurned) {\n",
    "    let workout = {\n",
    "        type: type,\n",
    "        duration: duration, // duration in minutes\n",
    "        calories: caloriesBurned // calories burned\n",
    "    };\n",
    "    workoutLog.push(workout);\n",
    "    console.log(`${type} workout of ${duration} minutes and ${caloriesBurned} calories burned added to the log.`);\n",
    "}\n",
    "\n",
    "// Function to display all workouts\n",
    "function displayWorkouts() {\n",
    "    if (workoutLog.length === 0) {\n",
    "        console.log(\"No workouts logged yet.\");\n",
    "    } else {\n",
    "        console.log(\"Workout Log:\");\n",
    "        workoutLog.forEach((workout, index) => {\n",
    "            console.log(`${index + 1}. Type: ${workout.type}, Duration: ${workout.duration} minutes, Calories Burned: ${workout.calories}`);\n",
    "        });\n",
    "    }\n",
    "}\n",
    "\n",
    "// Example usage\n",
    "logWorkout(\"Running\", 45, 400);\n",
    "logWorkout(\"Cycling\", 60, 500);\n",
    "logWorkout(\"Yoga\", 30, 150);\n",
    "\n",
    "displayWorkouts();\n"
   ]
  }
 ],
 "metadata": {
  "kernelspec": {
   "display_name": "venv",
   "language": "python",
   "name": "python3"
  },
  "language_info": {
   "codemirror_mode": {
    "name": "ipython",
    "version": 3
   },
   "file_extension": ".py",
   "mimetype": "text/x-python",
   "name": "python",
   "nbconvert_exporter": "python",
   "pygments_lexer": "ipython3",
   "version": "3.12.6"
  }
 },
 "nbformat": 4,
 "nbformat_minor": 2
}
