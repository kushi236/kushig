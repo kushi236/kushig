{
 "cells": [
  {
   "cell_type": "markdown",
   "metadata": {},
   "source": [
    "---\n",
    "layout: post\n",
    "title: Homeworks\n",
    "courses: {compsci: {week: 6}}\n",
    "type: hacks\n",
    "toc: False\n",
    "---\n"
   ]
  },
  {
   "cell_type": "code",
   "execution_count": null,
   "metadata": {},
   "outputs": [],
   "source": [
    "### Lesson 3.3.1 - 4"
   ]
  },
  {
   "cell_type": "code",
   "execution_count": 11,
   "metadata": {},
   "outputs": [
    {
     "name": "stdout",
     "output_type": "stream",
     "text": [
      "1445850\n"
     ]
    }
   ],
   "source": [
    "# python hack 3\n",
    "\n",
    "n= int(input())\n",
    "\n",
    "total_sum = 0\n",
    "\n",
    "for i in range(1, n + 1):\n",
    "    total_sum += i\n",
    "\n",
    "print(total_sum)"
   ]
  },
  {
   "cell_type": "code",
   "execution_count": 21,
   "metadata": {
    "vscode": {
     "languageId": "javascript"
    }
   },
   "outputs": [
    {
     "data": {
      "application/javascript": "//Javascript hack 1 \n\nfunction calculate() {\n    let result = (8 * 4) - 5 + (10 / 2);\n    return result;\n  }\n  \n  console.log(calculate());\n32\n",
      "text/plain": [
       "<IPython.core.display.Javascript object>"
      ]
     },
     "metadata": {},
     "output_type": "display_data"
    }
   ],
   "source": [
    "%%js\n",
    "//Javascript hack 1 \n",
    "\n",
    "function calculate() {\n",
    "    let result = (8 * 4) - 5 + (10 / 2);\n",
    "    return result;\n",
    "  }\n",
    "  \n",
    "  console.log(calculate());\n",
    "32"
   ]
  },
  {
   "cell_type": "code",
   "execution_count": 22,
   "metadata": {
    "vscode": {
     "languageId": "javascript"
    }
   },
   "outputs": [
    {
     "data": {
      "application/javascript": "//Javascript Homework Hack \n\nfunction primeFactors(n) {\n    const factors = [];\n    for (let i = 2; i <= n; i++) {\n        while (n % i === 0) { // Check if 'i' is a factor of 'n'\n            factors.push(i);\n            n /= i; // Divide n by 'i' and continue\n        }\n    }\n    return factors;\n}\n\n// Example usage\nconsole.log(primeFactors(32));  // [2, 2, 2, 2, 2]\nconsole.log(primeFactors(45));  // [3, 3, 5]\nconsole.log(primeFactors(13));  // [13]\n",
      "text/plain": [
       "<IPython.core.display.Javascript object>"
      ]
     },
     "metadata": {},
     "output_type": "display_data"
    }
   ],
   "source": [
    "%%js\n",
    "//Javascript Homework Hack \n",
    "\n",
    "function primeFactors(n) {\n",
    "    const factors = [];\n",
    "    for (let i = 2; i <= n; i++) {\n",
    "        while (n % i === 0) { // Check if 'i' is a factor of 'n'\n",
    "            factors.push(i);\n",
    "            n /= i; // Divide n by 'i' and continue\n",
    "        }\n",
    "    }\n",
    "    return factors;\n",
    "}\n",
    "\n",
    "// Example usage\n",
    "console.log(primeFactors(32));  // [2, 2, 2, 2, 2]\n",
    "console.log(primeFactors(45));  // [3, 3, 5]\n",
    "console.log(primeFactors(13));  // [13]"
   ]
  },
  {
   "cell_type": "code",
   "execution_count": 23,
   "metadata": {},
   "outputs": [
    {
     "name": "stdout",
     "output_type": "stream",
     "text": [
      "Mean: 18.0\n",
      "Median: 15.5\n"
     ]
    }
   ],
   "source": [
    "# Python Homework Hack\n",
    "\n",
    "def calculate_mean_and_median(numbers):\n",
    "   \n",
    "    mean = sum(numbers) / len(numbers)\n",
    "\n",
    "    sorted_numbers = sorted(numbers)\n",
    "    n = len(sorted_numbers)\n",
    "    mid = n // 2\n",
    "\n",
    "    median = (sorted_numbers[mid] if n % 2 != 0 else (sorted_numbers[mid - 1] + sorted_numbers[mid]) / 2)\n",
    "\n",
    "    print(\"Mean:\", mean)\n",
    "    print(\"Median:\", median)\n",
    "\n",
    "numbers = [4, 8, 15, 16, 23, 42]\n",
    "calculate_mean_and_median(numbers)"
   ]
  }
 ],
 "metadata": {
  "kernelspec": {
   "display_name": "venv",
   "language": "python",
   "name": "python3"
  },
  "language_info": {
   "codemirror_mode": {
    "name": "ipython",
    "version": 3
   },
   "file_extension": ".py",
   "mimetype": "text/x-python",
   "name": "python",
   "nbconvert_exporter": "python",
   "pygments_lexer": "ipython3",
   "version": "3.12.6"
  }
 },
 "nbformat": 4,
 "nbformat_minor": 2
}
