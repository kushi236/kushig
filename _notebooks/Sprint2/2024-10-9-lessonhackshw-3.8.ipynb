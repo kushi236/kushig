{
 "cells": [
  {
   "cell_type": "markdown",
   "metadata": {},
   "source": [
    "---\n",
    "layout: post\n",
    "title: Homeworks 3.8\n",
    "courses: {compsci: {week: 7}}\n",
    "type: hacks\n",
    "toc: False\n",
    "---"
   ]
  },
  {
   "cell_type": "code",
   "execution_count": 1,
   "metadata": {},
   "outputs": [
    {
     "name": "stdout",
     "output_type": "stream",
     "text": [
      "hello\n",
      "hello\n",
      "hello\n",
      "hello\n",
      "hello\n"
     ]
    }
   ],
   "source": [
    "## 3.8.1 Popcorn hack 1 Python \n",
    "\n",
    "# A while loop that prints \"hello\" 5 times using a different approach\n",
    "\n",
    "num_times = 5  # Define how many times to print \"hello\"\n",
    "while num_times > 0:\n",
    "    print(\"hello\")\n",
    "    num_times -= 1  # Decrease the count until it reaches zero"
   ]
  },
  {
   "cell_type": "code",
   "execution_count": 4,
   "metadata": {},
   "outputs": [
    {
     "name": "stdout",
     "output_type": "stream",
     "text": [
      "Kushi\n",
      "BobtasticBobtastic\n",
      "GadeGadeGade\n",
      "Kushi\n",
      "BobtasticBobtastic\n",
      "GadeGadeGade\n",
      "Kushi\n",
      "BobtasticBobtastic\n",
      "GadeGadeGade\n",
      "Kushi\n",
      "BobtasticBobtastic\n",
      "GadeGadeGade\n"
     ]
    }
   ],
   "source": [
    "## 3.8.2 Popcorn Hack 2 Python\n",
    "\n",
    "# Define the names\n",
    "first_name = \"Kushi\"\n",
    "middle_name = \"Bobtastic\"\n",
    "last_name = \"Gade\"\n",
    "\n",
    "# Initialize a counter\n",
    "count = 0\n",
    "\n",
    "# Repeat the process 4 times using a while loop\n",
    "while count < 4:\n",
    "    print(first_name)           # Print first name once\n",
    "    print(middle_name * 2)     # Print middle name twice\n",
    "    print(last_name * 3)       # Print last name three times\n",
    "    count += 1  # Increment the counter"
   ]
  },
  {
   "cell_type": "code",
   "execution_count": 11,
   "metadata": {},
   "outputs": [
    {
     "name": "stdout",
     "output_type": "stream",
     "text": [
      "K\n",
      "u\n",
      "s\n",
      "h\n",
      "i\n",
      " \n",
      "B\n",
      "o\n",
      "b\n",
      "t\n",
      "a\n",
      "s\n",
      "t\n",
      "i\n",
      "c\n",
      " \n",
      "G\n",
      "a\n",
      "d\n",
      "e\n"
     ]
    }
   ],
   "source": [
    "## 3.8.3 Python Popcorn Hack 3 \n",
    "#I want you to create a for loop that iterates and prints out to the terminal the letters of your name\n",
    "\n",
    "name = \"Kushi Bobtastic Gade\"\n",
    "\n",
    "for letter in name:\n",
    "    print(letter)"
   ]
  },
  {
   "cell_type": "code",
   "execution_count": 13,
   "metadata": {},
   "outputs": [
    {
     "name": "stdout",
     "output_type": "stream",
     "text": [
      "The key is 'name' and the value is 'Kushi'. Isn't that interesting?\n",
      "The key is 'hobby' and the value is 'Sleeping'. Isn't that interesting?\n",
      "The key is 'favorite_food' and the value is 'Pasta'. Isn't that interesting?\n",
      "The key is 'city' and the value is 'New York'. Isn't that interesting?\n"
     ]
    }
   ],
   "source": [
    "## 3.8.4 Popcorn Hack 4\n",
    "# Create a dictionary and create a for loop that runs through each key and value of the dictionary For each iteration, print the key and value as well as a message of your choice\n",
    "\n",
    "my_dict = {\n",
    "    \"name\": \"Kushi\",\n",
    "    \"hobby\": \"Sleeping\",\n",
    "    \"favorite_food\": \"Pasta\",\n",
    "    \"city\": \"New York\"\n",
    "}\n",
    "\n",
    "# For loop to iterate through the dictionary\n",
    "for key, value in my_dict.items():\n",
    "    print(f\"The key is '{key}' and the value is '{value}'. Isn't that interesting?\")\n"
   ]
  },
  {
   "cell_type": "code",
   "execution_count": 14,
   "metadata": {},
   "outputs": [
    {
     "name": "stdout",
     "output_type": "stream",
     "text": [
      "Password is correct!\n"
     ]
    }
   ],
   "source": [
    "## 3.8.5 Hack 1\n",
    "#Create a python script that asks a user for a password in the terminal, then if the password is correct, it prints out that the password is correct. If the password is incorrect it asks for the password again.\n",
    "\n",
    "# Define the correct password\n",
    "correct_password = \"kushibobtastic\"\n",
    "\n",
    "# Ask the user for the password\n",
    "user_password = input(\"Please enter your password: \")\n",
    "\n",
    "# Keep asking for the password until it's correct\n",
    "while user_password != correct_password:\n",
    "    print(\"Incorrect password, please try again.\")\n",
    "    user_password = input(\"Please enter your password: \")\n",
    "\n",
    "# Once the correct password is entered\n",
    "print(\"Password is correct!\")\n"
   ]
  },
  {
   "cell_type": "code",
   "execution_count": 15,
   "metadata": {},
   "outputs": [
    {
     "name": "stdout",
     "output_type": "stream",
     "text": [
      "K\n",
      "u\n",
      "s\n",
      "h\n",
      "i\n",
      " \n",
      "G\n",
      "a\n",
      "d\n",
      "e\n"
     ]
    }
   ],
   "source": [
    "## 3.8.5 Hack 2\n",
    "#Create python script that asks for a user’s name Then iterate through the name and print it out letter by letter through the terminal\n",
    "\n",
    "# Ask the user for their name\n",
    "user_name = input(\"Kushi Gade: \")\n",
    "\n",
    "# Iterate through the name and print each letter\n",
    "for letter in user_name:\n",
    "    print(letter)\n",
    "\n",
    "\n"
   ]
  },
  {
   "cell_type": "code",
   "execution_count": 16,
   "metadata": {},
   "outputs": [
    {
     "name": "stdout",
     "output_type": "stream",
     "text": [
      "Apple\n",
      "Banana\n",
      "Mango\n",
      "Orange\n",
      "Grapes\n",
      "Pineapple\n",
      "Strawberry\n"
     ]
    }
   ],
   "source": [
    "## 3.8.5 Hack 3 \n",
    "# For loops with lists. Create a python script that has a list of at least 7 different fruits then create a for loop that iterates through that list and prints out each fruit seperate to the terminal\n",
    "\n",
    "# List of fruits\n",
    "fruits = [\"Apple\", \"Banana\", \"Mango\", \"Orange\", \"Grapes\", \"Pineapple\", \"Strawberry\"]\n",
    "\n",
    "# For loop to iterate through the list of fruits and print each one\n",
    "for fruit in fruits:\n",
    "    print(fruit)"
   ]
  }
 ],
 "metadata": {
  "kernelspec": {
   "display_name": "venv",
   "language": "python",
   "name": "python3"
  },
  "language_info": {
   "codemirror_mode": {
    "name": "ipython",
    "version": 3
   },
   "file_extension": ".py",
   "mimetype": "text/x-python",
   "name": "python",
   "nbconvert_exporter": "python",
   "pygments_lexer": "ipython3",
   "version": "3.12.6"
  }
 },
 "nbformat": 4,
 "nbformat_minor": 2
}
