{
 "cells": [
  {
   "cell_type": "markdown",
   "metadata": {},
   "source": [
    "---\n",
    "layout: post\n",
    "title: Homeworks 3.10B\n",
    "courses: {compsci: {week: 7}}\n",
    "type: hacks\n",
    "toc: False\n",
    "---"
   ]
  },
  {
   "cell_type": "markdown",
   "metadata": {
    "vscode": {
     "languageId": "plaintext"
    }
   },
   "source": [
    "Popcorn Hack #1 Javascript: You can easily reverse an array using the reverse() method. Here is an example using the numbers array from above.\n",
    "\n",
    "Now create your own array and then reverse it using the reverse() method."
   ]
  },
  {
   "cell_type": "code",
   "execution_count": 1,
   "metadata": {
    "vscode": {
     "languageId": "javascript"
    }
   },
   "outputs": [
    {
     "data": {
      "application/javascript": "// Create an array with random elements\nvar randomArray = [\"apple\", \"banana\", \"cherry\", \"date\", \"elderberry\"];\n\n// Reverse the array\nrandomArray.reverse();\n\n// Print the reversed array\nconsole.log(randomArray); // Output: [\"elderberry\", \"date\", \"cherry\", \"banana\", \"apple\"]\n",
      "text/plain": [
       "<IPython.core.display.Javascript object>"
      ]
     },
     "metadata": {},
     "output_type": "display_data"
    }
   ],
   "source": [
    "%%js\n",
    "// Create an array with random elements\n",
    "var randomArray = [\"apple\", \"banana\", \"cherry\", \"date\", \"elderberry\"];\n",
    "\n",
    "// Reverse the array\n",
    "randomArray.reverse();\n",
    "\n",
    "// Print the reversed array\n",
    "console.log(randomArray); // Output: [\"elderberry\", \"date\", \"cherry\", \"banana\", \"apple\"]\n"
   ]
  },
  {
   "cell_type": "markdown",
   "metadata": {},
   "source": [
    "Popcorn Hack #2 Javascript: You can combine the push() with the spread operator (…) to add multiple items to an array at once. This also works with the unshift() method. For example:\n",
    "\n",
    "Make your own array using the unshift() method and the spread operator.\n",
    "\n"
   ]
  },
  {
   "cell_type": "code",
   "execution_count": 2,
   "metadata": {
    "vscode": {
     "languageId": "javascript"
    }
   },
   "outputs": [
    {
     "data": {
      "application/javascript": "// Create an initial array\nvar fruits = [\"banana\", \"orange\", \"apple\"];\n\n// New array to add\nvar moreFruits = [\"grape\", \"strawberry\"];\n\n// Use unshift with the spread operator to add moreFruits to the beginning\nfruits.unshift(...moreFruits);\n\n// Print the updated array\nconsole.log(fruits); // Output: [\"grape\", \"strawberry\", \"banana\", \"orange\", \"apple\"]\n",
      "text/plain": [
       "<IPython.core.display.Javascript object>"
      ]
     },
     "metadata": {},
     "output_type": "display_data"
    }
   ],
   "source": [
    "%%js \n",
    "// Create an initial array\n",
    "var fruits = [\"banana\", \"orange\", \"apple\"];\n",
    "\n",
    "// New array to add\n",
    "var moreFruits = [\"grape\", \"strawberry\"];\n",
    "\n",
    "// Use unshift with the spread operator to add moreFruits to the beginning\n",
    "fruits.unshift(...moreFruits);\n",
    "\n",
    "// Print the updated array\n",
    "console.log(fruits); // Output: [\"grape\", \"strawberry\", \"banana\", \"orange\", \"apple\"]\n"
   ]
  },
  {
   "cell_type": "markdown",
   "metadata": {},
   "source": [
    "Popcorn Hack #3 Javascript: Instead of manually iterating through an array and counting every “long name,” you can use the filter() method. For example:\n",
    "\n",
    "Make your own array using the filter() method\n",
    "\n"
   ]
  },
  {
   "cell_type": "code",
   "execution_count": 3,
   "metadata": {
    "vscode": {
     "languageId": "javascript"
    }
   },
   "outputs": [
    {
     "data": {
      "application/javascript": "// Create an array of colors\nvar colors = ['Red', 'Blue', 'Yellow', 'Purple', 'Green', 'Orange'];\n\n// Use filter() to find colors with more than 5 letters\nvar longColorCount = colors.filter(color => color.length > 5).length;\n\n// Print the count of colors with more than 5 letters\nconsole.log(longColorCount); // Output: 3\n",
      "text/plain": [
       "<IPython.core.display.Javascript object>"
      ]
     },
     "metadata": {},
     "output_type": "display_data"
    }
   ],
   "source": [
    "%%js\n",
    "// Create an array of colors\n",
    "var colors = ['Red', 'Blue', 'Yellow', 'Purple', 'Green', 'Orange'];\n",
    "\n",
    "// Use filter() to find colors with more than 5 letters\n",
    "var longColorCount = colors.filter(color => color.length > 5).length;\n",
    "\n",
    "// Print the count of colors with more than 5 letters\n",
    "console.log(longColorCount); // Output: 3\n"
   ]
  },
  {
   "cell_type": "markdown",
   "metadata": {},
   "source": [
    "Popcorn Hack #1 Python: We can use the insert() method to add values at a certain index. Negative indexes count from the end of the list.\n",
    "\n",
    "Make your own list (with numbers or strings), and add values to it using the insert() method with negative indexes\n",
    "\n"
   ]
  },
  {
   "cell_type": "code",
   "execution_count": 4,
   "metadata": {},
   "outputs": [
    {
     "name": "stdout",
     "output_type": "stream",
     "text": [
      "['New York', 'Los Angeles', 'Chicago', 'San Francisco', 'Houston', 'Miami', 'Phoenix']\n"
     ]
    }
   ],
   "source": [
    "# Create a list of cities\n",
    "cities = [\"New York\", \"Los Angeles\", \"Chicago\", \"Houston\", \"Phoenix\"]\n",
    "\n",
    "# Use insert() with negative indexes to add values at specific positions\n",
    "cities.insert(-1, \"Miami\")       # Adds \"Miami\" at the second-to-last position\n",
    "cities.insert(-3, \"San Francisco\")  # Adds \"San Francisco\" three places from the end\n",
    "\n",
    "# Print the updated list\n",
    "print(cities)\n"
   ]
  },
  {
   "cell_type": "markdown",
   "metadata": {},
   "source": [
    "Popcorn Hack #2 Python: We can use the extend() method to add two lists together.\n",
    "\n",
    "Make two lists and add them together using the extend() popcorn hack."
   ]
  },
  {
   "cell_type": "code",
   "execution_count": 5,
   "metadata": {},
   "outputs": [
    {
     "name": "stdout",
     "output_type": "stream",
     "text": [
      "['dog', 'cat', 'rabbit', 'lion', 'tiger', 'elephant']\n"
     ]
    }
   ],
   "source": [
    "# Create two lists of animals\n",
    "animals = [\"dog\", \"cat\", \"rabbit\"]\n",
    "more_animals = [\"lion\", \"tiger\", \"elephant\"]\n",
    "\n",
    "# Using extend() to add more_animals to animals\n",
    "animals.extend(more_animals)\n",
    "\n",
    "# Print the combined list\n",
    "print(animals)\n"
   ]
  },
  {
   "cell_type": "markdown",
   "metadata": {},
   "source": [
    "Popcorn Hack #3 Python: You can also remove items by using the del (short for delete) function.\n",
    "\n",
    "Create your own list, and remove three items from the list using three different methods."
   ]
  },
  {
   "cell_type": "code",
   "execution_count": 6,
   "metadata": {},
   "outputs": [
    {
     "name": "stdout",
     "output_type": "stream",
     "text": [
      "['red', 'blue', 'purple']\n"
     ]
    }
   ],
   "source": [
    "# Create a list of colors\n",
    "colors = [\"red\", \"blue\", \"green\", \"yellow\", \"purple\", \"orange\"]\n",
    "\n",
    "# Method 1: Using del to remove the item at index 2\n",
    "del colors[2]  # Removes \"green\"\n",
    "\n",
    "# Method 2: Using remove() to remove an item by value\n",
    "colors.remove(\"yellow\")  # Removes \"yellow\"\n",
    "\n",
    "# Method 3: Using pop() to remove the last item or by index\n",
    "colors.pop()  # Removes the last item, \"orange\"\n",
    "\n",
    "# Print the updated list\n",
    "print(colors)\n"
   ]
  },
  {
   "cell_type": "markdown",
   "metadata": {},
   "source": [
    "Python Homework Hack #1: Problem #1 -\n",
    "Objective: Create a simple program to manage a grocery list.\n"
   ]
  },
  {
   "cell_type": "code",
   "execution_count": 8,
   "metadata": {},
   "outputs": [
    {
     "name": "stdout",
     "output_type": "stream",
     "text": [
      "\n",
      "Current grocery list: ['milk', 'eggs', 'bread']\n",
      "\n",
      "Sorted grocery list: ['bread', 'eggs', 'milk']\n",
      "\n",
      "Updated grocery list: ['bread', 'eggs']\n"
     ]
    }
   ],
   "source": [
    "# Step 1: Create an empty list to store grocery items\n",
    "grocery_list = []\n",
    "\n",
    "# Step 2: Pre-fill the list with three grocery items\n",
    "grocery_list = [\"milk\", \"eggs\", \"bread\"]\n",
    "\n",
    "# Step 3: Display the current grocery list\n",
    "print(\"\\nCurrent grocery list:\", grocery_list)\n",
    "\n",
    "# Step 4: Sort the list alphabetically and print the sorted list\n",
    "grocery_list.sort()\n",
    "print(\"\\nSorted grocery list:\", grocery_list)\n",
    "\n",
    "# Step 5: Remove one item specified by the user\n",
    "item_to_remove = input(\"\\nEnter the item you want to remove: \")\n",
    "if item_to_remove in grocery_list:\n",
    "    grocery_list.remove(item_to_remove)\n",
    "    print(\"\\nUpdated grocery list:\", grocery_list)\n",
    "else:\n",
    "    print(f\"{item_to_remove} is not in the grocery list.\")\n"
   ]
  },
  {
   "cell_type": "markdown",
   "metadata": {},
   "source": [
    "Python Homework Hack #2: Problem #2 -\n",
    "Filtering Even Numbers Objective: Create a list of numbers and filter for even numbers.\n",
    "\n",
    "Print the list of even numbers."
   ]
  },
  {
   "cell_type": "code",
   "execution_count": 9,
   "metadata": {},
   "outputs": [
    {
     "name": "stdout",
     "output_type": "stream",
     "text": [
      "Original list: [1, 2, 3, 4, 5, 6, 7, 8, 9, 10, 11, 12, 13, 14, 15, 16, 17, 18, 19, 20]\n",
      "Even numbers: [2, 4, 6, 8, 10, 12, 14, 16, 18, 20]\n"
     ]
    }
   ],
   "source": [
    "# Step 1: Create a list of integers from 1 to 20\n",
    "original_list = list(range(1, 21))\n",
    "\n",
    "# Step 2: Print the original list\n",
    "print(\"Original list:\", original_list)\n",
    "\n",
    "# Step 3: Create a new list containing only the even numbers using list comprehension\n",
    "even_numbers = [num for num in original_list if num % 2 == 0]\n",
    "\n",
    "# Step 4: Print the list of even numbers\n",
    "print(\"Even numbers:\", even_numbers)\n"
   ]
  },
  {
   "cell_type": "markdown",
   "metadata": {},
   "source": [
    "Python Homework Hack#3- Problem #3 - Write a program that manages a list of student grades.\n",
    "\n",
    "Create a new list that contains only grades above 60 and print this list.\n"
   ]
  },
  {
   "cell_type": "code",
   "execution_count": 11,
   "metadata": {},
   "outputs": [
    {
     "name": "stdout",
     "output_type": "stream",
     "text": [
      "List of grades: [75, 50, 85]\n",
      "Grades above 60: [75, 85]\n"
     ]
    }
   ],
   "source": [
    "# Step 1: Create an empty list to store student grades\n",
    "grades = []\n",
    "\n",
    "# Step 2: Input three grades (as integers) and add them to the list\n",
    "grades.append(75)  # First grade\n",
    "grades.append(50)  # Second grade\n",
    "grades.append(85)  # Third grade\n",
    "\n",
    "# Step 3: Print the list of grades after all grades are entered\n",
    "print(\"List of grades:\", grades)\n",
    "\n",
    "# Step 4: Create a new list that contains only grades above 60\n",
    "passing_grades = [grade for grade in grades if grade > 60]\n",
    "\n",
    "# Step 5: Print the list of passing grades\n",
    "print(\"Grades above 60:\", passing_grades)\n"
   ]
  },
  {
   "cell_type": "markdown",
   "metadata": {},
   "source": [
    "Python Homework Hack #4- Problem #4 Problem #4 -\n",
    "Number List Operations Objective: Create a list of numbers and perform basic operations.\n",
    "\n",
    "Sort the list again at the end in ascending order and print it.\n"
   ]
  },
  {
   "cell_type": "code",
   "execution_count": 12,
   "metadata": {},
   "outputs": [
    {
     "name": "stdout",
     "output_type": "stream",
     "text": [
      "Original list: [1, 2, 3, 4, 5, 6, 7, 8, 9, 10]\n",
      "Sorted in descending order: [10, 9, 8, 7, 6, 5, 4, 3, 2, 1]\n",
      "First five numbers: [10, 9, 8, 7, 6]\n",
      "Sorted in ascending order: [1, 2, 3, 4, 5, 6, 7, 8, 9, 10]\n"
     ]
    }
   ],
   "source": [
    "# Step 1: Create a list of numbers from 1 to 10 (integers)\n",
    "numbers = [1, 2, 3, 4, 5, 6, 7, 8, 9, 10]\n",
    "\n",
    "# Step 2: Print the original list\n",
    "print(\"Original list:\", numbers)\n",
    "\n",
    "# Step 3: Sort the list in descending order\n",
    "numbers.sort(reverse=True)\n",
    "print(\"Sorted in descending order:\", numbers)\n",
    "\n",
    "# Step 4: Slice the list to get the first five numbers and print them\n",
    "first_five = numbers[:5]\n",
    "print(\"First five numbers:\", first_five)\n",
    "\n",
    "# Step 5: Sort the list again in ascending order and print it\n",
    "numbers.sort()\n",
    "print(\"Sorted in ascending order:\", numbers)\n"
   ]
  },
  {
   "cell_type": "markdown",
   "metadata": {},
   "source": [
    "Javascript Homework Hack 1: Problem 1"
   ]
  },
  {
   "cell_type": "code",
   "execution_count": 13,
   "metadata": {
    "vscode": {
     "languageId": "javascript"
    }
   },
   "outputs": [
    {
     "data": {
      "application/javascript": "// Step 1: Create an array with at least 5 values\nvar myArray = [5, 10, 15, 20, 25];\n\n// Step 2: Display the array\nconsole.log(\"Original array:\", myArray);\n\n// Bonus: Reverse the array using the reverse() method\nmyArray.reverse();\n\n// Display the reversed array\nconsole.log(\"Reversed array:\", myArray);\n",
      "text/plain": [
       "<IPython.core.display.Javascript object>"
      ]
     },
     "metadata": {},
     "output_type": "display_data"
    }
   ],
   "source": [
    "%%js \n",
    "// Step 1: Create an array with at least 5 values\n",
    "var myArray = [5, 10, 15, 20, 25];\n",
    "\n",
    "// Step 2: Display the array\n",
    "console.log(\"Original array:\", myArray);\n",
    "\n",
    "// Bonus: Reverse the array using the reverse() method\n",
    "myArray.reverse();\n",
    "\n",
    "// Display the reversed array\n",
    "console.log(\"Reversed array:\", myArray);\n"
   ]
  },
  {
   "cell_type": "markdown",
   "metadata": {},
   "source": [
    "Javascript Hack 2: Problem 2"
   ]
  },
  {
   "cell_type": "code",
   "execution_count": 14,
   "metadata": {
    "vscode": {
     "languageId": "javascript"
    }
   },
   "outputs": [
    {
     "data": {
      "application/javascript": "// Given array of sports\nvar sports = [\"soccer\", \"football\", \"basketball\", \"wrestling\", \"swimming\"];\n\n// Accessing elements using their indexes\nvar firstSport = sports[0];    // \"soccer\" is at index 0\nvar fourthSport = sports[3];    // \"wrestling\" is at index 3\n\n// Displaying the values\nconsole.log(firstSport);   // Output: soccer\nconsole.log(fourthSport);  // Output: wrestling\n",
      "text/plain": [
       "<IPython.core.display.Javascript object>"
      ]
     },
     "metadata": {},
     "output_type": "display_data"
    }
   ],
   "source": [
    "%%js \n",
    "// Given array of sports\n",
    "var sports = [\"soccer\", \"football\", \"basketball\", \"wrestling\", \"swimming\"];\n",
    "\n",
    "// Accessing elements using their indexes\n",
    "var firstSport = sports[0];    // \"soccer\" is at index 0\n",
    "var fourthSport = sports[3];    // \"wrestling\" is at index 3\n",
    "\n",
    "// Displaying the values\n",
    "console.log(firstSport);   // Output: soccer\n",
    "console.log(fourthSport);  // Output: wrestling\n"
   ]
  },
  {
   "cell_type": "markdown",
   "metadata": {},
   "source": [
    "Javascript Hack 3: Problem 3"
   ]
  },
  {
   "cell_type": "code",
   "execution_count": 16,
   "metadata": {
    "vscode": {
     "languageId": "javascript"
    }
   },
   "outputs": [
    {
     "data": {
      "application/javascript": "// Initialize the array with four items\nvar choresList = [\"laundry\", \"dishes\", \"vacuuming\", \"dusting\"];\n\n// Display the initial chores list\nconsole.log(\"Initial chores list:\", choresList);\n\n// Use push() to add an item to the end\nchoresList.push(\"mopping\");\nconsole.log(\"After push (mopping):\", choresList);\n\n// Use unshift() to add an item to the beginning\nchoresList.unshift(\"grocery shopping\");\nconsole.log(\"After unshift (grocery shopping):\", choresList);\n\n// Use pop() to remove the last item\nvar removedItem = choresList.pop();\nconsole.log(\"After pop (removed item: \" + removedItem + \"):\", choresList);\n\n// Use shift() to remove the first item\nvar shiftedItem = choresList.shift();\nconsole.log(\"After shift (removed item: \" + shiftedItem + \"):\", choresList);\n\n// Bonus: Use push() and spread operator to add multiple values\nvar moreChores = [\"cleaning windows\", \"organizing garage\", \"watering plants\"];\nchoresList.push(...moreChores);\nconsole.log(\"After pushing multiple items:\", choresList);\n",
      "text/plain": [
       "<IPython.core.display.Javascript object>"
      ]
     },
     "metadata": {},
     "output_type": "display_data"
    }
   ],
   "source": [
    "%%js\n",
    "// Initialize the array with four items\n",
    "var choresList = [\"laundry\", \"dishes\", \"vacuuming\", \"dusting\"];\n",
    "\n",
    "// Display the initial chores list\n",
    "console.log(\"Initial chores list:\", choresList);\n",
    "\n",
    "// Use push() to add an item to the end\n",
    "choresList.push(\"mopping\");\n",
    "console.log(\"After push (mopping):\", choresList);\n",
    "\n",
    "// Use unshift() to add an item to the beginning\n",
    "choresList.unshift(\"grocery shopping\");\n",
    "console.log(\"After unshift (grocery shopping):\", choresList);\n",
    "\n",
    "// Use pop() to remove the last item\n",
    "var removedItem = choresList.pop();\n",
    "console.log(\"After pop (removed item: \" + removedItem + \"):\", choresList);\n",
    "\n",
    "// Use shift() to remove the first item\n",
    "var shiftedItem = choresList.shift();\n",
    "console.log(\"After shift (removed item: \" + shiftedItem + \"):\", choresList);\n",
    "\n",
    "// Bonus: Use push() and spread operator to add multiple values\n",
    "var moreChores = [\"cleaning windows\", \"organizing garage\", \"watering plants\"];\n",
    "choresList.push(...moreChores);\n",
    "console.log(\"After pushing multiple items:\", choresList);\n"
   ]
  },
  {
   "cell_type": "markdown",
   "metadata": {},
   "source": [
    "Javascript Hack 4: Problem 4"
   ]
  },
  {
   "cell_type": "code",
   "execution_count": 17,
   "metadata": {
    "vscode": {
     "languageId": "javascript"
    }
   },
   "outputs": [
    {
     "data": {
      "application/javascript": "// Create an array with ten random numbers (both even and odd)\nvar randomNumbers = [12, 7, 5, 4, 19, 22, 8, 15, 6, 3];\n\n// Function to count even numbers\nfunction countEvenNumbers(numbers) {\n    let evenCount = 0; // Initialize count of even numbers\n\n    // Iterate through the array\n    for (var i = 0; i < numbers.length; i++) {\n        // Check if the number is even\n        if (numbers[i] % 2 === 0) {\n            evenCount++; // Increment count if even\n        }\n    }\n\n    return evenCount; // Return the count of even numbers\n}\n\n// Call the function and display the result\nvar count = countEvenNumbers(randomNumbers);\nconsole.log(\"The count of even numbers in the array is:\", count);\n",
      "text/plain": [
       "<IPython.core.display.Javascript object>"
      ]
     },
     "metadata": {},
     "output_type": "display_data"
    }
   ],
   "source": [
    "%%js\n",
    "// Create an array with ten random numbers (both even and odd)\n",
    "var randomNumbers = [12, 7, 5, 4, 19, 22, 8, 15, 6, 3];\n",
    "\n",
    "// Function to count even numbers\n",
    "function countEvenNumbers(numbers) {\n",
    "    let evenCount = 0; // Initialize count of even numbers\n",
    "\n",
    "    // Iterate through the array\n",
    "    for (var i = 0; i < numbers.length; i++) {\n",
    "        // Check if the number is even\n",
    "        if (numbers[i] % 2 === 0) {\n",
    "            evenCount++; // Increment count if even\n",
    "        }\n",
    "    }\n",
    "\n",
    "    return evenCount; // Return the count of even numbers\n",
    "}\n",
    "\n",
    "// Call the function and display the result\n",
    "var count = countEvenNumbers(randomNumbers);\n",
    "console.log(\"The count of even numbers in the array is:\", count);\n"
   ]
  }
 ],
 "metadata": {
  "kernelspec": {
   "display_name": "venv",
   "language": "python",
   "name": "python3"
  },
  "language_info": {
   "codemirror_mode": {
    "name": "ipython",
    "version": 3
   },
   "file_extension": ".py",
   "mimetype": "text/x-python",
   "name": "python",
   "nbconvert_exporter": "python",
   "pygments_lexer": "ipython3",
   "version": "3.12.6"
  }
 },
 "nbformat": 4,
 "nbformat_minor": 2
}
