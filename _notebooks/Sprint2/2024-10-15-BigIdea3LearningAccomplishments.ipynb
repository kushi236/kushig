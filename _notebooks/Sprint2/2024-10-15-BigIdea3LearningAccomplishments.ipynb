{
 "cells": [
  {
   "cell_type": "markdown",
   "metadata": {},
   "source": [
    "---\n",
    "layout: post\n",
    "title: Big Ideas 3 Learning Summary\n",
    "courses: {compsci: {week: 8}}\n",
    "type: hacks\n",
    "toc: False\n",
    "---"
   ]
  },
  {
   "cell_type": "markdown",
   "metadata": {},
   "source": [
    "### Evidence of learning (my lesson):\n",
    "\n",
    "- [Link to commits](https://github.com/nighthawkcoders/portfolio_2025/commits/main/?author=kushi236)\n",
    "- [Our group made pull request, link to pull requests](https://github.com/nighthawkcoders/portfolio_2025/pulls?q=is%3Apr+is%3Aclosed+author%3AMaryamAbdul-Aziz)\n",
    "- [Made different homework and popcorn hack as well as lesson plans](https://nighthawkcoders.github.io/portfolio_2025/csp/big-idea/p4/3-1-2)\n",
    "- [Lesson hacks part 2 link](https://nighthawkcoders.github.io/portfolio_2025/csp/big-idea/p4/3-1-4)"
   ]
  },
  {
   "cell_type": "markdown",
   "metadata": {},
   "source": [
    "### Evidence of learning (other lessons and hw)"
   ]
  },
  {
   "cell_type": "markdown",
   "metadata": {},
   "source": [
    "- [Link to notebook with all popcorn hacks and homework hacks from other lessons](https://kushi236.github.io/kushig/blogs/)\n",
    "- I did all the homework hacks with 100% effort and made sure each homework hacks were correctly done\n",
    "- I also made sure that the work was distributed and spread out correctly making it easy to understand and read"
   ]
  },
  {
   "cell_type": "markdown",
   "metadata": {},
   "source": [
    "### Pt 2 Learning Summary questions"
   ]
  },
  {
   "cell_type": "markdown",
   "metadata": {},
   "source": [
    "1. Blog - in association with Big Ideas and Teaching, something that shows how you will be prepared for CB and PBL (ie organized accomplishments)\n",
    "College Board- I finished all the homework and popcorn hacks based on understanding not just completion.\n",
    "\n",
    "2. Memory - something that will helps Teacher or others recall your individual presentation and contribution (ie a highlight)\n",
    "-When we were making our personal lessons I made sure that the concept of the hacks were not very difficult to create and make but also challenging enough to complete with the idea of understanding what the lesson was saying. \n",
    "-I remembered 3.6 and 3.7 because of their kahoot and how it was interesting to understand and comprehend, and stuck out to me\n",
    "\n",
    "3. Relevancy - something impactful you learned from another lesson, note source, and try to use relevancy checklist in language (ie a learning)\n",
    "-In our lesson I talked about concatenation and how that is beneficial because it comes up a lot when I print out scripts.\n",
    "-I learnt a lot from 3.6 because they went over different if and else statements that is beneficial for how I organize my functions in different each language. \n",
    "\n",
    "4. Beyond Perfunctory - something that shows me that this Sprint on Big Ideas is distinctly yours (ie personal growth or accomplishment)\n",
    "-I finished all my hacks while also adding new and more different things that were not neccesarily required. \n",
    "-I also completed my bonus questions for different lessons and created bonus questions for my own lesson plans. "
   ]
  }
 ],
 "metadata": {
  "language_info": {
   "name": "python"
  }
 },
 "nbformat": 4,
 "nbformat_minor": 2
}
