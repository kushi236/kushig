{
 "cells": [
  {
   "cell_type": "markdown",
   "metadata": {},
   "source": [
    "---\n",
    "layout: post\n",
    "title: Homeworks 3.6\n",
    "courses: {compsci: {week: 7}}\n",
    "type: hacks\n",
    "toc: False\n",
    "---"
   ]
  },
  {
   "cell_type": "code",
   "execution_count": 1,
   "metadata": {},
   "outputs": [
    {
     "name": "stdout",
     "output_type": "stream",
     "text": [
      "The temperature 25°F is categorized as: cold\n",
      "The temperature 45°F is categorized as: cool\n",
      "The temperature 65°F is categorized as: warm\n",
      "The temperature 85°F is categorized as: hot\n"
     ]
    }
   ],
   "source": [
    "## Popcorn Hack 1 Python 3.6.1\n",
    "# What would happen if you added more temperature ranges (like ‘warm’ for temperatures between 60 and 79 degrees)? How would you modify the code to implement this feature?”\n",
    "\n",
    "\n",
    "\n",
    "def categorize_temperature(temp):\n",
    "    if temp < 32:\n",
    "        return \"cold\"\n",
    "    elif 32 <= temp <= 59:\n",
    "        return \"cool\"\n",
    "    elif 60 <= temp <= 79:\n",
    "        return \"warm\"\n",
    "    elif temp >= 80:\n",
    "        return \"hot\"\n",
    "\n",
    "temperatures = [25, 45, 65, 85]\n",
    "for temp in temperatures:\n",
    "    category = categorize_temperature(temp)\n",
    "    print(f\"The temperature {temp}°F is categorized as: {category}\")\n"
   ]
  },
  {
   "cell_type": "markdown",
   "metadata": {},
   "source": [
    "Javascript Popcorn Hack 1 3.6.2\n",
    "\n",
    " How would you change the code to show a message for scores below 60? What would you add?\n",
    "\n"
   ]
  },
  {
   "cell_type": "code",
   "execution_count": 2,
   "metadata": {
    "vscode": {
     "languageId": "javascript"
    }
   },
   "outputs": [
    {
     "data": {
      "application/javascript": "function categorizeScore(score) {\n    if (score >= 80) {\n        return \"Excellent\";\n    } else if (score >= 60) {\n        return \"Good\";\n    } else {\n        return \"Score is below 60. Needs Improvement\";\n    }\n}\n// Test cases\nconsole.log(categorizeScore(85));  // Output: Excellent\nconsole.log(categorizeScore(65));  // Output: Good\nconsole.log(categorizeScore(55));  // Output: Score is below 60. Needs Improvement\n",
      "text/plain": [
       "<IPython.core.display.Javascript object>"
      ]
     },
     "metadata": {},
     "output_type": "display_data"
    }
   ],
   "source": [
    "%%js\n",
    "function categorizeScore(score) {\n",
    "    if (score >= 80) {\n",
    "        return \"Excellent\";\n",
    "    } else if (score >= 60) {\n",
    "        return \"Good\";\n",
    "    } else {\n",
    "        return \"Score is below 60. Needs Improvement\";\n",
    "    }\n",
    "}\n",
    "// Test cases\n",
    "console.log(categorizeScore(85));  // Output: Excellent\n",
    "console.log(categorizeScore(65));  // Output: Good\n",
    "console.log(categorizeScore(55));  // Output: Score is below 60. Needs Improvement"
   ]
  },
  {
   "cell_type": "code",
   "execution_count": 6,
   "metadata": {},
   "outputs": [
    {
     "name": "stdout",
     "output_type": "stream",
     "text": [
      "Even\n",
      "Odd\n",
      "Even\n",
      "Odd\n"
     ]
    }
   ],
   "source": [
    "## 3.6.4 Conditionals in Python Hack 1\n",
    "\n",
    "# Define the function to check if a number is odd or even\n",
    "def check_odd_even(number):\n",
    "    if number % 2 == 0:\n",
    "        return \"Even\"\n",
    "    else:\n",
    "        return \"Odd\"\n",
    "\n",
    "# Test the function with different numbers\n",
    "print(check_odd_even(10))  # Output: Even\n",
    "print(check_odd_even(7))   # Output: Odd\n",
    "print(check_odd_even(22))  # Output: Even\n",
    "print(check_odd_even(15))  # Output: Odd\n"
   ]
  },
  {
   "cell_type": "code",
   "execution_count": 7,
   "metadata": {},
   "outputs": [
    {
     "name": "stdout",
     "output_type": "stream",
     "text": [
      "Leap Year\n",
      "Not a Leap Year\n",
      "Leap Year\n",
      "Not a Leap Year\n"
     ]
    }
   ],
   "source": [
    "## 3.6.4 Conditionals in Python Hack 2\n",
    "\n",
    "# Define the function to check if a year is a leap year\n",
    "def is_leap_year(year):\n",
    "    if (year % 4 == 0 and year % 100 != 0) or (year % 400 == 0):\n",
    "        return \"Leap Year\"\n",
    "    else:\n",
    "        return \"Not a Leap Year\"\n",
    "\n",
    "# Test the function with different years\n",
    "print(is_leap_year(2020))  # Output: Leap Year\n",
    "print(is_leap_year(1900))  # Output: Not a Leap Year\n",
    "print(is_leap_year(2000))  # Output: Leap Year\n",
    "print(is_leap_year(2021))  # Output: Not a Leap Year"
   ]
  },
  {
   "cell_type": "code",
   "execution_count": 8,
   "metadata": {},
   "outputs": [
    {
     "name": "stdout",
     "output_type": "stream",
     "text": [
      "Cold\n",
      "Warm\n",
      "Hot\n",
      "Hot\n"
     ]
    }
   ],
   "source": [
    "## 3.6.4 Conditionals in Python Hack 3\n",
    "\n",
    "# Define the function to check the temperature range\n",
    "def temperature_range(temperature):\n",
    "    if temperature < 60:\n",
    "        return \"Cold\"\n",
    "    elif 60 <= temperature <= 80:\n",
    "        return \"Warm\"\n",
    "    elif temperature > 80:\n",
    "        return \"Hot\"\n",
    "    else:\n",
    "        return \"Undefined Range\"  # For any edge cases, though unlikely\n",
    "\n",
    "# Test the function with different temperatures\n",
    "print(temperature_range(50))   # Output: Cold\n",
    "print(temperature_range(75))   # Output: Warm\n",
    "print(temperature_range(85))   # Output: Hot\n",
    "print(temperature_range(90))   # Output: Hot"
   ]
  },
  {
   "cell_type": "markdown",
   "metadata": {},
   "source": [
    "Unit 3.6.4 Conditionals in JavaScript Hack 1"
   ]
  },
  {
   "cell_type": "code",
   "execution_count": 9,
   "metadata": {
    "vscode": {
     "languageId": "javascript"
    }
   },
   "outputs": [
    {
     "data": {
      "application/javascript": "public class Main {\n\n    // Function to check voting eligibility\n    public static String checkVotingEligibility(int age) {\n        return (age >= 18) ? \"You are eligible to vote!\" : \"You are not eligible to vote yet.\";\n    }\n\n    // Main method to test the function\n    public static void main(String[] args) {\n        System.out.println(checkVotingEligibility(20));  // Output: You are eligible to vote!\n        System.out.println(checkVotingEligibility(16));  // Output: You are not eligible to vote yet.\n    }\n}\n",
      "text/plain": [
       "<IPython.core.display.Javascript object>"
      ]
     },
     "metadata": {},
     "output_type": "display_data"
    }
   ],
   "source": [
    "%%js\n",
    "public class Main {\n",
    "\n",
    "    // Function to check voting eligibility\n",
    "    public static String checkVotingEligibility(int age) {\n",
    "        return (age >= 18) ? \"You are eligible to vote!\" : \"You are not eligible to vote yet.\";\n",
    "    }\n",
    "\n",
    "    // Main method to test the function\n",
    "    public static void main(String[] args) {\n",
    "        System.out.println(checkVotingEligibility(20));  // Output: You are eligible to vote!\n",
    "        System.out.println(checkVotingEligibility(16));  // Output: You are not eligible to vote yet.\n",
    "    }\n",
    "}"
   ]
  },
  {
   "cell_type": "markdown",
   "metadata": {},
   "source": [
    "Unit 3.6.4 Conditionals in JavaScript Hack 2"
   ]
  },
  {
   "cell_type": "code",
   "execution_count": 10,
   "metadata": {
    "vscode": {
     "languageId": "javascript"
    }
   },
   "outputs": [
    {
     "data": {
      "application/javascript": "public class Main {\n\n    // Function to determine letter grade based on the score\n    public static String getGrade(int score) {\n        if (score >= 90) {\n            return \"Grade: A\";\n        } else if (score >= 80) {\n            return \"Grade: B\";\n        } else if (score >= 70) {\n            return \"Grade: C\";\n        } else {\n            return \"Grade: F\";\n        }\n    }\n\n    // Main method to test the function\n    public static void main(String[] args) {\n        System.out.println(getGrade(95));  // Output: Grade: A\n        System.out.println(getGrade(85));  // Output: Grade: B\n        System.out.println(getGrade(75));  // Output: Grade: C\n        System.out.println(getGrade(65));  // Output: Grade: F\n    }\n}\n",
      "text/plain": [
       "<IPython.core.display.Javascript object>"
      ]
     },
     "metadata": {},
     "output_type": "display_data"
    }
   ],
   "source": [
    "%%js\n",
    "public class Main {\n",
    "\n",
    "    // Function to determine letter grade based on the score\n",
    "    public static String getGrade(int score) {\n",
    "        if (score >= 90) {\n",
    "            return \"Grade: A\";\n",
    "        } else if (score >= 80) {\n",
    "            return \"Grade: B\";\n",
    "        } else if (score >= 70) {\n",
    "            return \"Grade: C\";\n",
    "        } else {\n",
    "            return \"Grade: F\";\n",
    "        }\n",
    "    }\n",
    "\n",
    "    // Main method to test the function\n",
    "    public static void main(String[] args) {\n",
    "        System.out.println(getGrade(95));  // Output: Grade: A\n",
    "        System.out.println(getGrade(85));  // Output: Grade: B\n",
    "        System.out.println(getGrade(75));  // Output: Grade: C\n",
    "        System.out.println(getGrade(65));  // Output: Grade: F\n",
    "    }\n",
    "}"
   ]
  },
  {
   "cell_type": "markdown",
   "metadata": {},
   "source": [
    "Unit 3.6.4 Conditionals in JavaScript Hack 3"
   ]
  },
  {
   "cell_type": "code",
   "execution_count": 11,
   "metadata": {
    "vscode": {
     "languageId": "javascript"
    }
   },
   "outputs": [
    {
     "data": {
      "application/javascript": "public class Main {\n\n    // Function to convert temperature between Celsius and Fahrenheit\n    public static String convertTemperature(double value, String scale) {\n        if (scale.equalsIgnoreCase(\"C\")) {\n            // Convert Celsius to Fahrenheit\n            double fahrenheit = (value * 9/5) + 32;\n            return value + \"°C is \" + fahrenheit + \"°F\";\n        } else if (scale.equalsIgnoreCase(\"F\")) {\n            // Convert Fahrenheit to Celsius\n            double celsius = (value - 32) * 5/9;\n            return value + \"°F is \" + celsius + \"°C\";\n        } else {\n            return \"Error: Invalid scale. Use 'C' for Celsius or 'F' for Fahrenheit.\";\n        }\n    }\n\n    // Main method to test the function\n    public static void main(String[] args) {\n        System.out.println(convertTemperature(25, \"C\"));  // Output: 25°C is 77.0°F\n        System.out.println(convertTemperature(77, \"F\"));  // Output: 77°F is 25.0°C\n        System.out.println(convertTemperature(100, \"X\")); // Output: Error: Invalid scale...\n    }\n}\n",
      "text/plain": [
       "<IPython.core.display.Javascript object>"
      ]
     },
     "metadata": {},
     "output_type": "display_data"
    }
   ],
   "source": [
    "%%js\n",
    "public class Main {\n",
    "\n",
    "    // Function to convert temperature between Celsius and Fahrenheit\n",
    "    public static String convertTemperature(double value, String scale) {\n",
    "        if (scale.equalsIgnoreCase(\"C\")) {\n",
    "            // Convert Celsius to Fahrenheit\n",
    "            double fahrenheit = (value * 9/5) + 32;\n",
    "            return value + \"°C is \" + fahrenheit + \"°F\";\n",
    "        } else if (scale.equalsIgnoreCase(\"F\")) {\n",
    "            // Convert Fahrenheit to Celsius\n",
    "            double celsius = (value - 32) * 5/9;\n",
    "            return value + \"°F is \" + celsius + \"°C\";\n",
    "        } else {\n",
    "            return \"Error: Invalid scale. Use 'C' for Celsius or 'F' for Fahrenheit.\";\n",
    "        }\n",
    "    }\n",
    "\n",
    "    // Main method to test the function\n",
    "    public static void main(String[] args) {\n",
    "        System.out.println(convertTemperature(25, \"C\"));  // Output: 25°C is 77.0°F\n",
    "        System.out.println(convertTemperature(77, \"F\"));  // Output: 77°F is 25.0°C\n",
    "        System.out.println(convertTemperature(100, \"X\")); // Output: Error: Invalid scale...\n",
    "    }\n",
    "}\n"
   ]
  }
 ],
 "metadata": {
  "kernelspec": {
   "display_name": "venv",
   "language": "python",
   "name": "python3"
  },
  "language_info": {
   "codemirror_mode": {
    "name": "ipython",
    "version": 3
   },
   "file_extension": ".py",
   "mimetype": "text/x-python",
   "name": "python",
   "nbconvert_exporter": "python",
   "pygments_lexer": "ipython3",
   "version": "3.12.6"
  }
 },
 "nbformat": 4,
 "nbformat_minor": 2
}
