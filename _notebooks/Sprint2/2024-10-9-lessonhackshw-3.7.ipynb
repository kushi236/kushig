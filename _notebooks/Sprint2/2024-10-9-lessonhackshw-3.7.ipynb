{
 "cells": [
  {
   "cell_type": "markdown",
   "metadata": {},
   "source": [
    "---\n",
    "layout: post\n",
    "title: Homeworks 3.7\n",
    "courses: {compsci: {week: 7}}\n",
    "type: hacks\n",
    "toc: False\n",
    "---"
   ]
  },
  {
   "cell_type": "code",
   "execution_count": 1,
   "metadata": {},
   "outputs": [
    {
     "name": "stdout",
     "output_type": "stream",
     "text": [
      "The weather is sunny\n",
      "Your transportation is available\n",
      "Your boots are not present\n",
      "Location determined: False\n",
      "You need to find your boots first.\n"
     ]
    }
   ],
   "source": [
    "## Popcorn Hack 1 Python 3.7.1\n",
    "\n",
    "# Initial conditions\n",
    "weather = \"sunny\"\n",
    "transportation = \"available\"\n",
    "boots = \"not present\"\n",
    "location_determined = False  # New condition\n",
    "\n",
    "print(\"The weather is \" + weather)\n",
    "print(\"Your transportation is \" + transportation)\n",
    "print(\"Your boots are \" + boots)\n",
    "print(\"Location determined: \" + str(location_determined))\n",
    "\n",
    "# Hiking readiness checks\n",
    "if weather == \"sunny\":\n",
    "    if transportation == \"available\":\n",
    "        if boots == \"present\":\n",
    "            if location_determined:  # Check if the location is determined\n",
    "                print(\"You are ready to go hiking!\")\n",
    "            else:\n",
    "                print(\"You need to determine a hiking location first.\")\n",
    "        else:\n",
    "            print(\"You need to find your boots first.\")\n",
    "    else:\n",
    "        print(\"You need to arrange transportation.\")\n",
    "else:\n",
    "    print(\"It's not good weather for hiking.\")\n",
    "\n"
   ]
  },
  {
   "cell_type": "markdown",
   "metadata": {},
   "source": [
    "Javascript Popcorn Hack 1 3.7.2\n",
    "\n",
    "Popcorn Hack 1\n",
    "Try adding an additional condition for hiking (like location_determined or miles_in_the_hike).\n",
    "\n"
   ]
  },
  {
   "cell_type": "code",
   "execution_count": 9,
   "metadata": {
    "vscode": {
     "languageId": "javascript"
    }
   },
   "outputs": [
    {
     "data": {
      "application/javascript": "let weather = \"sunny\";\nlet transportation = \"available\";\nlet boots = \"not present\";\nlet location_determined = \"yes\"; // New condition for hiking location\n\nconsole.log(\"The weather is \" + weather);\nconsole.log(\"Your transportation is \" + transportation);\nconsole.log(\"Your boots are \" + boots);\nconsole.log(\"Hiking location determined: \" + location_determined);\n\nif (weather === \"sunny\") {\n    if (transportation === \"available\") {\n        if (boots === \"present\") {\n            if (location_determined === \"yes\") {\n                console.log(\"You are ready to go hiking!\");\n            } else {\n                console.log(\"You need to determine your hiking location.\");\n            }\n        } else {\n            console.log(\"You need to find your boots first.\");\n        }\n    } else {\n        console.log(\"You need to arrange transportation.\");\n    }\n} else {\n    console.log(\"It's not good weather for hiking.\");\n}\n",
      "text/plain": [
       "<IPython.core.display.Javascript object>"
      ]
     },
     "metadata": {},
     "output_type": "display_data"
    }
   ],
   "source": [
    "%%js\n",
    "let weather = \"sunny\";\n",
    "let transportation = \"available\";\n",
    "let boots = \"not present\";\n",
    "let location_determined = \"yes\"; // New condition for hiking location\n",
    "\n",
    "console.log(\"The weather is \" + weather);\n",
    "console.log(\"Your transportation is \" + transportation);\n",
    "console.log(\"Your boots are \" + boots);\n",
    "console.log(\"Hiking location determined: \" + location_determined);\n",
    "\n",
    "if (weather === \"sunny\") {\n",
    "    if (transportation === \"available\") {\n",
    "        if (boots === \"present\") {\n",
    "            if (location_determined === \"yes\") {\n",
    "                console.log(\"You are ready to go hiking!\");\n",
    "            } else {\n",
    "                console.log(\"You need to determine your hiking location.\");\n",
    "            }\n",
    "        } else {\n",
    "            console.log(\"You need to find your boots first.\");\n",
    "        }\n",
    "    } else {\n",
    "        console.log(\"You need to arrange transportation.\");\n",
    "    }\n",
    "} else {\n",
    "    console.log(\"It's not good weather for hiking.\");\n",
    "}\n"
   ]
  },
  {
   "cell_type": "markdown",
   "metadata": {},
   "source": [
    "##3.7.3 Nested Conditionals Python Hack 1\n",
    "#Hack 1: Write Python pseudocode to decide whether or not to go to the beach.\n",
    "\n",
    "# Pseudocode for deciding whether or not to go to the beach\n",
    "\n",
    "```plaintext\n",
    "1. Define function decideBeachTrip with parameters:\n",
    "   - weatherIsSunny\n",
    "   - hasSunscreen\n",
    "   - hasEnoughSnacks\n",
    "\n",
    "2. If weatherIsSunny is True:\n",
    "     a. If hasSunscreen is True:\n",
    "         i. If hasEnoughSnacks is True:\n",
    "             - Print \"You are ready for the beach!\"\n",
    "         ii. Else (if hasEnoughSnacks is False):\n",
    "             - Print \"You need to get snacks first.\"\n",
    "     b. Else (if hasSunscreen is False):\n",
    "         - Print \"You need to buy sunscreen.\"\n",
    "   \n",
    "3. Else (if weatherIsSunny is False):\n",
    "     - Print \"It's not a good day for the beach.\"\n",
    "\n",
    "4. End function\n",
    "\n",
    "# Example usage:\n",
    "Call decideBeachTrip with different values for weatherIsSunny, hasSunscreen, and hasEnoughSnacks.\n",
    "```\n",
    "\n"
   ]
  },
  {
   "cell_type": "code",
   "execution_count": 22,
   "metadata": {},
   "outputs": [
    {
     "name": "stdout",
     "output_type": "stream",
     "text": [
      "You can adopt the pet!\n",
      "You must be at least 18 to adopt a pet.\n",
      "You need a bigger home to adopt a pet.\n",
      "You need to make time to take care of the pet.\n"
     ]
    }
   ],
   "source": [
    "## 3.7.3 Nested Conditionals Python Hack 2\n",
    "#Hack 2: Write a Python code that checks if you can adopt a pet.\n",
    "\n",
    "def checkAdoptionEligibility(age, space, available):\n",
    "    if age >= 18:\n",
    "        if space > 50:\n",
    "            if available:\n",
    "                print(\"You can adopt the pet!\")\n",
    "            else:\n",
    "                print(\"You need to make time to take care of the pet.\")\n",
    "        else:\n",
    "            print(\"You need a bigger home to adopt a pet.\")\n",
    "    else:\n",
    "        print(\"You must be at least 18 to adopt a pet.\")\n",
    "\n",
    "# Example usage\n",
    "checkAdoptionEligibility(20, 60, True)   # Output: You can adopt the pet!\n",
    "checkAdoptionEligibility(16, 60, True)   # Output: You must be at least 18 to adopt a pet.\n",
    "checkAdoptionEligibility(20, 40, True)   # Output: You need a bigger home to adopt a pet.\n",
    "checkAdoptionEligibility(20, 60, False)  # Output: You need to make time to take care of the pet.\n"
   ]
  },
  {
   "cell_type": "code",
   "execution_count": 23,
   "metadata": {},
   "outputs": [
    {
     "name": "stdout",
     "output_type": "stream",
     "text": [
      "You are ready for the marathon!\n",
      "You need to buy running shoes first.\n",
      "You need to practice more.\n",
      "It's not the right time for the marathon.\n"
     ]
    }
   ],
   "source": [
    "## 3.7.3 Nested Conditionals Python Hack 3\n",
    "#Hack 3: Write Python code to determine whether or not to participate in a marathon.\n",
    "\n",
    "def checkMarathonParticipation(weather, running_shoes, practice_days):\n",
    "    if weather == \"clear\":\n",
    "        if running_shoes:\n",
    "            if practice_days >= 10:\n",
    "                print(\"You are ready for the marathon!\")\n",
    "            else:\n",
    "                print(\"You need to practice more.\")\n",
    "        else:\n",
    "            print(\"You need to buy running shoes first.\")\n",
    "    else:\n",
    "        print(\"It's not the right time for the marathon.\")\n",
    "\n",
    "# Example usage\n",
    "checkMarathonParticipation(\"clear\", True, 12)    # Output: You are ready for the marathon!\n",
    "checkMarathonParticipation(\"clear\", False, 12)   # Output: You need to buy running shoes first.\n",
    "checkMarathonParticipation(\"clear\", True, 5)     # Output: You need to practice more.\n",
    "checkMarathonParticipation(\"rainy\", True, 12)    # Output: It's not the right time for the marathon."
   ]
  },
  {
   "cell_type": "code",
   "execution_count": 32,
   "metadata": {},
   "outputs": [],
   "source": [
    "## Python Quiz Question 1 \n",
    "# Answer is C- you are too young to enter"
   ]
  },
  {
   "cell_type": "code",
   "execution_count": 33,
   "metadata": {},
   "outputs": [],
   "source": [
    "##Python Quiz Question 2\n",
    "# Answer is B- x is positive but y is not"
   ]
  },
  {
   "cell_type": "code",
   "execution_count": 35,
   "metadata": {},
   "outputs": [],
   "source": [
    "##Python Quiz Question 3 \n",
    "# Answer is C- It's too cold"
   ]
  },
  {
   "cell_type": "markdown",
   "metadata": {},
   "source": [
    "3.7.4 Nested Conditionals Javascript Hack 1"
   ]
  },
  {
   "cell_type": "markdown",
   "metadata": {
    "vscode": {
     "languageId": "javascript"
    }
   },
   "source": [
    "# Pseudocode for checking if you're ready to study\n",
    "\n",
    "```plaintext\n",
    "// Pseudocode for checking if you're ready to study\n",
    "\n",
    "1. Define function checkStudyReadiness with parameters:\n",
    "   - studyMaterials\n",
    "   - quietPlace\n",
    "   - feelingTired\n",
    "\n",
    "2. If studyMaterials is true:\n",
    "     a. If quietPlace is true:\n",
    "         i. If feelingTired is false:\n",
    "             - Output \"You are ready to study!\"\n",
    "         ii. Else (if feelingTired is true):\n",
    "             - Output \"You should take a nap or rest first.\"\n",
    "     b. Else (if quietPlace is false):\n",
    "         - Output \"You need to find a quiet location.\"\n",
    "\n",
    "3. Else (if studyMaterials is false):\n",
    "     - Output \"You need to gather your study materials first.\"\n",
    "\n",
    "4. End function\n",
    "\n",
    "# Example usage:\n",
    "Call checkStudyReadiness with different values for studyMaterials, quietPlace, and feelingTired.\n",
    "\n",
    "```\n"
   ]
  },
  {
   "cell_type": "markdown",
   "metadata": {},
   "source": [
    "Hack 2: Write Javascript code deciding whether or not you can bake a cake."
   ]
  },
  {
   "cell_type": "code",
   "execution_count": 37,
   "metadata": {
    "vscode": {
     "languageId": "javascript"
    }
   },
   "outputs": [
    {
     "data": {
      "application/javascript": "// Define a function to check if you can bake a cake\nfunction checkBakingReadiness(ingredients, ovenWorking, availableTime) {\n    // Check if all ingredients are present\n    let missingIngredients = [];\n    if (!ingredients.flour) {\n        missingIngredients.push(\"flour\");\n    }\n    if (!ingredients.eggs) {\n        missingIngredients.push(\"eggs\");\n    }\n    if (!ingredients.sugar) {\n        missingIngredients.push(\"sugar\");\n    }\n\n    // Check if you have all ingredients\n    if (missingIngredients.length > 0) {\n        console.log(\"You are missing: \" + missingIngredients.join(\", \") + \".\");\n    } else {\n        // Check if the oven is working\n        if (!ovenWorking) {\n            console.log(\"You need to fix or replace the oven.\");\n        } else {\n            // Check if you have at least 2 hours\n            if (availableTime >= 2) {\n                console.log(\"You can start baking!\");\n            } else {\n                console.log(\"You need to find more time.\");\n            }\n        }\n    }\n}\n\n// Example usage:\nconst ingredients = {\n    flour: true,\n    eggs: true,\n    sugar: true\n};\n\ncheckBakingReadiness(ingredients, true, 2); // Output: You can start baking!\ncheckBakingReadiness(ingredients, true, 1); // Output: You need to find more time.\ncheckBakingReadiness(ingredients, false, 2); // Output: You need to fix or replace the oven.\ncheckBakingReadiness({ flour: true, eggs: false, sugar: true }, true, 2); // Output: You are missing: eggs.\n",
      "text/plain": [
       "<IPython.core.display.Javascript object>"
      ]
     },
     "metadata": {},
     "output_type": "display_data"
    }
   ],
   "source": [
    "%%js\n",
    "// Define a function to check if you can bake a cake\n",
    "function checkBakingReadiness(ingredients, ovenWorking, availableTime) {\n",
    "    // Check if all ingredients are present\n",
    "    let missingIngredients = [];\n",
    "    if (!ingredients.flour) {\n",
    "        missingIngredients.push(\"flour\");\n",
    "    }\n",
    "    if (!ingredients.eggs) {\n",
    "        missingIngredients.push(\"eggs\");\n",
    "    }\n",
    "    if (!ingredients.sugar) {\n",
    "        missingIngredients.push(\"sugar\");\n",
    "    }\n",
    "\n",
    "    // Check if you have all ingredients\n",
    "    if (missingIngredients.length > 0) {\n",
    "        console.log(\"You are missing: \" + missingIngredients.join(\", \") + \".\");\n",
    "    } else {\n",
    "        // Check if the oven is working\n",
    "        if (!ovenWorking) {\n",
    "            console.log(\"You need to fix or replace the oven.\");\n",
    "        } else {\n",
    "            // Check if you have at least 2 hours\n",
    "            if (availableTime >= 2) {\n",
    "                console.log(\"You can start baking!\");\n",
    "            } else {\n",
    "                console.log(\"You need to find more time.\");\n",
    "            }\n",
    "        }\n",
    "    }\n",
    "}\n",
    "\n",
    "// Example usage:\n",
    "const ingredients = {\n",
    "    flour: true,\n",
    "    eggs: true,\n",
    "    sugar: true\n",
    "};\n",
    "\n",
    "checkBakingReadiness(ingredients, true, 2); // Output: You can start baking!\n",
    "checkBakingReadiness(ingredients, true, 1); // Output: You need to find more time.\n",
    "checkBakingReadiness(ingredients, false, 2); // Output: You need to fix or replace the oven.\n",
    "checkBakingReadiness({ flour: true, eggs: false, sugar: true }, true, 2); // Output: You are missing: eggs.\n"
   ]
  },
  {
   "cell_type": "markdown",
   "metadata": {},
   "source": [
    "Hack 3: Write Javascript code to determine whether or not to go camping."
   ]
  },
  {
   "cell_type": "code",
   "execution_count": 39,
   "metadata": {
    "vscode": {
     "languageId": "javascript"
    }
   },
   "outputs": [
    {
     "data": {
      "application/javascript": "// Define a function to check if you are ready to go camping\nfunction checkCampingReadiness(weatherClear, hasTent, enoughFoodAndWater) {\n    // Check if the weather is clear\n    if (!weatherClear) {\n        console.log(\"It's not a good time for camping.\");\n    } else {\n        // Check if you have a tent\n        if (!hasTent) {\n            console.log(\"You need to buy or borrow a tent.\");\n        } else {\n            // Check if you have enough food and water\n            if (!enoughFoodAndWater) {\n                console.log(\"You need to pack more food and water.\");\n            } else {\n                // All conditions met\n                console.log(\"You are ready to go camping!\");\n            }\n        }\n    }\n}\n\n// Example usage:\ncheckCampingReadiness(true, true, true);  // Output: You are ready to go camping!\ncheckCampingReadiness(true, false, true); // Output: You need to buy or borrow a tent.\ncheckCampingReadiness(true, true, false); // Output: You need to pack more food and water.\ncheckCampingReadiness(false, true, true); // Output: It's not a good time for camping.\n",
      "text/plain": [
       "<IPython.core.display.Javascript object>"
      ]
     },
     "metadata": {},
     "output_type": "display_data"
    }
   ],
   "source": [
    "%%js\n",
    "// Define a function to check if you are ready to go camping\n",
    "function checkCampingReadiness(weatherClear, hasTent, enoughFoodAndWater) {\n",
    "    // Check if the weather is clear\n",
    "    if (!weatherClear) {\n",
    "        console.log(\"It's not a good time for camping.\");\n",
    "    } else {\n",
    "        // Check if you have a tent\n",
    "        if (!hasTent) {\n",
    "            console.log(\"You need to buy or borrow a tent.\");\n",
    "        } else {\n",
    "            // Check if you have enough food and water\n",
    "            if (!enoughFoodAndWater) {\n",
    "                console.log(\"You need to pack more food and water.\");\n",
    "            } else {\n",
    "                // All conditions met\n",
    "                console.log(\"You are ready to go camping!\");\n",
    "            }\n",
    "        }\n",
    "    }\n",
    "}\n",
    "\n",
    "// Example usage:\n",
    "checkCampingReadiness(true, true, true);  // Output: You are ready to go camping!\n",
    "checkCampingReadiness(true, false, true); // Output: You need to buy or borrow a tent.\n",
    "checkCampingReadiness(true, true, false); // Output: You need to pack more food and water.\n",
    "checkCampingReadiness(false, true, true); // Output: It's not a good time for camping.\n"
   ]
  }
 ],
 "metadata": {
  "kernelspec": {
   "display_name": "venv",
   "language": "python",
   "name": "python3"
  },
  "language_info": {
   "codemirror_mode": {
    "name": "ipython",
    "version": 3
   },
   "file_extension": ".py",
   "mimetype": "text/x-python",
   "name": "python",
   "nbconvert_exporter": "python",
   "pygments_lexer": "ipython3",
   "version": "3.12.6"
  }
 },
 "nbformat": 4,
 "nbformat_minor": 2
}
