{
 "cells": [
  {
   "cell_type": "markdown",
   "metadata": {},
   "source": [
    "---\n",
    "layout: post\n",
    "title: Homeworks\n",
    "courses: {compsci: {week: 6}}\n",
    "type: hacks\n",
    "toc: False\n",
    "---"
   ]
  },
  {
   "cell_type": "code",
   "execution_count": null,
   "metadata": {},
   "outputs": [],
   "source": [
    "### Lesson 3.5.1 -4 Popcorn hacks and Homework hacks "
   ]
  },
  {
   "cell_type": "markdown",
   "metadata": {},
   "source": [
    "Python popcorn hack 1\n",
    "\n",
    "Popcorn Hack #1\n",
    "\n",
    "Check Number: Evaluates if number is less than 0. Output: Logs whether the number is negative or non-negative."
   ]
  },
  {
   "cell_type": "code",
   "execution_count": 1,
   "metadata": {},
   "outputs": [
    {
     "name": "stdout",
     "output_type": "stream",
     "text": [
      "The number is non-negative.\n"
     ]
    }
   ],
   "source": [
    "def check_number():\n",
    "    try:\n",
    "        number = float(input(\"Enter a number: \"))  \n",
    "        if number < 0:\n",
    "            print(\"The number is negative.\")  \n",
    "        else:\n",
    "            print(\"The number is non-negative.\")\n",
    "    except ValueError:\n",
    "        print(\"Invalid input! Please enter a valid number.\")\n",
    "\n",
    "check_number()"
   ]
  },
  {
   "cell_type": "markdown",
   "metadata": {},
   "source": [
    "Python Popcorn hack 3\n",
    "\n",
    "Check Vowel: Checks if char is in the string ‘aeiou’. Output: Prints whether the character is a vowel or not."
   ]
  },
  {
   "cell_type": "code",
   "execution_count": 2,
   "metadata": {},
   "outputs": [
    {
     "name": "stdout",
     "output_type": "stream",
     "text": [
      "The character 'e' is a vowel.\n"
     ]
    }
   ],
   "source": [
    "def check_vowel(char):\n",
    "    vowels = 'aeiou'\n",
    "    if char.lower() in vowels:\n",
    "        print(f\"The character '{char}' is a vowel.\")\n",
    "    else:\n",
    "        print(f\"The character '{char}' is not a vowel.\")\n",
    "\n",
    "char = input(\"Enter a character: \")\n",
    "\n",
    "if len(char) == 1:\n",
    "    check_vowel(char)\n",
    "else:\n",
    "    print(\"Please enter a single character.\")\n"
   ]
  },
  {
   "cell_type": "markdown",
   "metadata": {},
   "source": [
    "Python Homework Hack 1\n",
    "\n",
    "Create a Truth Table: Develop a truth table for a given logical expression.\n"
   ]
  },
  {
   "cell_type": "code",
   "execution_count": 3,
   "metadata": {},
   "outputs": [
    {
     "name": "stdout",
     "output_type": "stream",
     "text": [
      "A     B     A or B     A and (A or B)      \n",
      "----------------------------------------\n",
      "True  True  True       True                \n",
      "True  False True       True                \n",
      "False True  True       False               \n",
      "False False False      False               \n"
     ]
    }
   ],
   "source": [
    "def truth_table():\n",
    "    print(f\"{'A':<5} {'B':<5} {'A or B':<10} {'A and (A or B)':<20}\")\n",
    "    print(\"-\" * 40)\n",
    "\n",
    "    for A in [True, False]:\n",
    "        for B in [True, False]:\n",
    "            A_or_B = A or B\n",
    "            result = A and A_or_B\n",
    "            print(f\"{str(A):<5} {str(B):<5} {str(A_or_B):<10} {str(result):<20}\")\n",
    "truth_table()"
   ]
  },
  {
   "cell_type": "markdown",
   "metadata": {},
   "source": [
    "Python Homework Hack 2 \n",
    "\n",
    "Design a Game Using De Morgan’s Law: Create a game that uses De Morgan’s Law to simplify yes or no functions."
   ]
  },
  {
   "cell_type": "code",
   "execution_count": 4,
   "metadata": {},
   "outputs": [],
   "source": [
    "import random\n",
    "\n",
    "def de_morgans_game():\n",
    "    A = random.choice([True, False])\n",
    "    B = random.choice([True, False])\n",
    "\n",
    "    statements = [\n",
    "        f\"NOT (A AND B)\", \n",
    "        f\"NOT (A OR B)\"\n",
    "    ]\n",
    "    chosen_statement = random.choice(statements)\n",
    "    \n",
    "    print(f\"Evaluate the following statement based on A = {A} and B = {B}:\")\n",
    "    print(f\"Expression: {chosen_statement}\")\n",
    "    \n",
    "    player_input = input(\"Is the simplified expression True (Yes) or False (No)? \").strip().lower()\n",
    "\n",
    "    if chosen_statement == \"NOT (A AND B)\":\n",
    "        simplified_result = (not A or not B)  \n",
    "    elif chosen_statement == \"NOT (A OR B)\":\n",
    "        simplified_result = (not A and not B) "
   ]
  },
  {
   "cell_type": "markdown",
   "metadata": {},
   "source": [
    "Javascript Popcorn Hack 1\n",
    "Outfit Picker Based on Weather"
   ]
  },
  {
   "cell_type": "code",
   "execution_count": 5,
   "metadata": {
    "vscode": {
     "languageId": "javascript"
    }
   },
   "outputs": [
    {
     "data": {
      "application/javascript": "function outfitPicker(temp) {\n    if (temp >= 90) {\n        console.log(\"It's really hot! Wear light clothing like shorts and a t-shirt.\");\n    } else if (temp >= 70 && temp < 90) {\n        console.log(\"It's warm. Wear something comfortable like jeans and a short-sleeve shirt.\");\n    } else if (temp >= 50 && temp < 70) {\n        console.log(\"It's a bit chilly. Wear a light jacket or sweater with long pants.\");\n    } else if (temp >= 30 && temp < 50) {\n        console.log(\"It's cold! Wear a coat, sweater, and warm pants.\");\n    } else {\n        console.log(\"It's freezing! Wear a heavy coat, gloves, and scarf.\");\n    }\n}\nlet temperature = prompt(\"Enter the current temperature in Fahrenheit:\");\n\n// Convert the input to a number and check if it's valid\ntemperature = parseFloat(temperature);\n\nif (!isNaN(temperature)) {\n    outfitPicker(temperature);\n} else {\n    console.log(\"Please enter a valid number for the temperature.\");\n}\n",
      "text/plain": [
       "<IPython.core.display.Javascript object>"
      ]
     },
     "metadata": {},
     "output_type": "display_data"
    }
   ],
   "source": [
    "%%js \n",
    "function outfitPicker(temp) {\n",
    "    if (temp >= 90) {\n",
    "        console.log(\"It's really hot! Wear light clothing like shorts and a t-shirt.\");\n",
    "    } else if (temp >= 70 && temp < 90) {\n",
    "        console.log(\"It's warm. Wear something comfortable like jeans and a short-sleeve shirt.\");\n",
    "    } else if (temp >= 50 && temp < 70) {\n",
    "        console.log(\"It's a bit chilly. Wear a light jacket or sweater with long pants.\");\n",
    "    } else if (temp >= 30 && temp < 50) {\n",
    "        console.log(\"It's cold! Wear a coat, sweater, and warm pants.\");\n",
    "    } else {\n",
    "        console.log(\"It's freezing! Wear a heavy coat, gloves, and scarf.\");\n",
    "    }\n",
    "}\n",
    "let temperature = prompt(\"Enter the current temperature in Fahrenheit:\");\n",
    "\n",
    "// Convert the input to a number and check if it's valid\n",
    "temperature = parseFloat(temperature);\n",
    "\n",
    "if (!isNaN(temperature)) {\n",
    "    outfitPicker(temperature);\n",
    "} else {\n",
    "    console.log(\"Please enter a valid number for the temperature.\");\n",
    "}"
   ]
  },
  {
   "cell_type": "markdown",
   "metadata": {},
   "source": [
    "Javascript Popcorn Hack 2 \n",
    "Which number is bigger?"
   ]
  },
  {
   "cell_type": "code",
   "execution_count": 6,
   "metadata": {
    "vscode": {
     "languageId": "javascript"
    }
   },
   "outputs": [
    {
     "data": {
      "application/javascript": "function sortNumbers(numbers) {\n    numbers.sort(function(a, b) {\n        return a - b; \n    });\n    \n    return numbers;\n}\nlet numbers = prompt(\"Enter a list of numbers separated by commas (e.g., 5,3,9,1):\");\n\nnumbers = numbers.split(',').map(Number);\n\nif (numbers.every(isFinite)) {\n    let sortedNumbers = sortNumbers(numbers);\n    console.log(\"Numbers sorted from least to greatest: \" + sortedNumbers.join(', '));\n} else {\n    console.log(\"Please enter valid numbers.\");\n}\n",
      "text/plain": [
       "<IPython.core.display.Javascript object>"
      ]
     },
     "metadata": {},
     "output_type": "display_data"
    }
   ],
   "source": [
    "%%js \n",
    "function sortNumbers(numbers) {\n",
    "    numbers.sort(function(a, b) {\n",
    "        return a - b; \n",
    "    });\n",
    "    \n",
    "    return numbers;\n",
    "}\n",
    "let numbers = prompt(\"Enter a list of numbers separated by commas (e.g., 5,3,9,1):\");\n",
    "\n",
    "numbers = numbers.split(',').map(Number);\n",
    "\n",
    "if (numbers.every(isFinite)) {\n",
    "    let sortedNumbers = sortNumbers(numbers);\n",
    "    console.log(\"Numbers sorted from least to greatest: \" + sortedNumbers.join(', '));\n",
    "} else {\n",
    "    console.log(\"Please enter valid numbers.\");\n",
    "}"
   ]
  },
  {
   "cell_type": "markdown",
   "metadata": {},
   "source": [
    "Javascript Popcorn Hack 3 \n",
    "Even or Odd?"
   ]
  },
  {
   "cell_type": "code",
   "execution_count": 7,
   "metadata": {
    "vscode": {
     "languageId": "javascript"
    }
   },
   "outputs": [
    {
     "data": {
      "application/javascript": "\nfunction isEvenOrOdd(number) {\n    return number % 2 === 0 ? \"Even\" : \"Odd\";\n}\nconst num = 7\nconsole.log(`${num} is ${isEvenOrOdd(num)}`);\n\n",
      "text/plain": [
       "<IPython.core.display.Javascript object>"
      ]
     },
     "metadata": {},
     "output_type": "display_data"
    }
   ],
   "source": [
    "%%js \n",
    "\n",
    "function isEvenOrOdd(number) {\n",
    "    return number % 2 === 0 ? \"Even\" : \"Odd\";\n",
    "}\n",
    "const num = 7\n",
    "console.log(`${num} is ${isEvenOrOdd(num)}`);\n",
    "\n"
   ]
  },
  {
   "cell_type": "markdown",
   "metadata": {},
   "source": [
    "Javascript Homework Hack 1"
   ]
  },
  {
   "cell_type": "code",
   "execution_count": 8,
   "metadata": {
    "vscode": {
     "languageId": "javascript"
    }
   },
   "outputs": [
    {
     "data": {
      "application/javascript": "function validatePassword(password) {\n    let isValid = !(password.length < 10 || \n                    !/[A-Z]/.test(password) || \n                    !/[a-z]/.test(password) || \n                    !/\\d/.test(password) || \n                    /\\s/.test(password));\n\n    return isValid;\n}\n\nlet password = prompt(\"Enter your password:\"); \n\nif (validatePassword(password)) {\n    console.log(\"Password is valid!\");\n} else {\n    console.log(\"Password must be at least 10 characters long, include uppercase and lowercase letters, contain at least one number, and have no spaces.\");\n}\n",
      "text/plain": [
       "<IPython.core.display.Javascript object>"
      ]
     },
     "metadata": {},
     "output_type": "display_data"
    }
   ],
   "source": [
    "%%js \n",
    "function validatePassword(password) {\n",
    "    let isValid = !(password.length < 10 || \n",
    "                    !/[A-Z]/.test(password) || \n",
    "                    !/[a-z]/.test(password) || \n",
    "                    !/\\d/.test(password) || \n",
    "                    /\\s/.test(password));\n",
    "\n",
    "    return isValid;\n",
    "}\n",
    "\n",
    "let password = prompt(\"Enter your password:\"); \n",
    "\n",
    "if (validatePassword(password)) {\n",
    "    console.log(\"Password is valid!\");\n",
    "} else {\n",
    "    console.log(\"Password must be at least 10 characters long, include uppercase and lowercase letters, contain at least one number, and have no spaces.\");\n",
    "}\n"
   ]
  },
  {
   "cell_type": "markdown",
   "metadata": {},
   "source": [
    "Javascript Homework Hack 2"
   ]
  },
  {
   "cell_type": "code",
   "execution_count": 9,
   "metadata": {
    "vscode": {
     "languageId": "javascript"
    }
   },
   "outputs": [
    {
     "data": {
      "application/javascript": "// Simple Personality Quiz\nconst questions = [\n    {\n        question: \"1. What is your favorite type of weather?\",\n        options: [\"a) Sunny\", \"b) Rainy\", \"c) Snowy\", \"d) Windy\"],\n        answers: { a: \"A\", b: \"B\", c: \"C\", d: \"D\" }\n    },\n    {\n        question: \"2. How do you prefer to spend your free time?\",\n        options: [\"a) Reading\", \"b) Socializing\", \"c) Sports\", \"d) Traveling\"],\n        answers: { a: \"A\", b: \"B\", c: \"C\", d: \"D\" }\n    },\n    {\n        question: \"3. What's your ideal vacation?\",\n        options: [\"a) Beach\", \"b) Mountains\", \"c) City\", \"d) Countryside\"],\n        answers: { a: \"A\", b: \"B\", c: \"C\", d: \"D\" }\n    },\n    {\n        question: \"4. How do you handle stress?\",\n        options: [\"a) Exercise\", \"b) Meditation\", \"c) Talk to friends\", \"d) Distract myself\"],\n        answers: { a: \"A\", b: \"B\", c: \"C\", d: \"D\" }\n    },\n    {\n        question: \"5. What motivates you the most?\",\n        options: [\"a) Success\", \"b) Relationships\", \"c) Adventure\", \"d) Knowledge\"],\n        answers: { a: \"A\", b: \"B\", c: \"C\", d: \"D\" }\n    },\n    {\n        question: \"6. How do you make decisions?\",\n        options: [\"a) Carefully analyze\", \"b) Follow my gut\", \"c) Ask others\", \"d) Look for excitement\"],\n        answers: { a: \"A\", b: \"B\", c: \"C\", d: \"D\" }\n    },\n    {\n        question: \"7. What's your favorite movie genre?\",\n        options: [\"a) Comedy\", \"b) Drama\", \"c) Action\", \"d) Documentary\"],\n        answers: { a: \"A\", b: \"B\", c: \"C\", d: \"D\" }\n    },\n    {\n        question: \"8. How do you approach new challenges?\",\n        options: [\"a) Methodically\", \"b) With enthusiasm\", \"c) Cautiously\", \"d) Fearlessly\"],\n        answers: { a: \"A\", b: \"B\", c: \"C\", d: \"D\" }\n    },\n    {\n        question: \"9. What's your preferred social setting?\",\n        options: [\"a) Small gatherings\", \"b) Big parties\", \"c) One-on-one\", \"d) Solo\"],\n        answers: { a: \"A\", b: \"B\", c: \"C\", d: \"D\" }\n    },\n    {\n        question: \"10. How do you view change?\",\n        options: [\"a) As an opportunity\", \"b) As a challenge\", \"c) As unsettling\", \"d) As a chance to grow\"],\n        answers: { a: \"A\", b: \"B\", c: \"C\", d: \"D\" }\n    }\n];\nfunction getPersonalityType(answers) {\n    let scores = { A: 0, B: 0, C: 0, D: 0 };\n\n    answers.forEach(answer => {\n        if (answer in scores) {\n            scores[answer]++;\n        }\n    });\n    const maxScore = Math.max(scores.A, scores.B, scores.C, scores.D);\n    const personalityTypes = [];\n    \n    for (let key in scores) {\n        if (scores[key] === maxScore) {\n            personalityTypes.push(key);\n        }\n    }\n\n    if (personalityTypes.includes(\"A\")) return \"You are a thoughtful and introspective person.\";\n    if (personalityTypes.includes(\"B\")) return \"You are outgoing and enjoy being around others.\";\n    if (personalityTypes.includes(\"C\")) return \"You are adventurous and love excitement.\";\n    if (personalityTypes.includes(\"D\")) return \"You are a seeker of knowledge and experiences.\";\n}\nfunction runQuiz() {\n    const answers = [];\n    for (let i = 0; i < questions.length; i++) {\n        const q = questions[i];\n        const answer = prompt(`${q.question}\\n${q.options.join(\"\\n\")}`);\n        answers.push(answer.toLowerCase());\n    }\n\n    const personalityResult = getPersonalityType(answers);\n    alert(personalityResult);\n}\nrunQuiz();\n",
      "text/plain": [
       "<IPython.core.display.Javascript object>"
      ]
     },
     "metadata": {},
     "output_type": "display_data"
    }
   ],
   "source": [
    "%%js\n",
    "// Simple Personality Quiz\n",
    "const questions = [\n",
    "    {\n",
    "        question: \"1. What is your favorite type of weather?\",\n",
    "        options: [\"a) Sunny\", \"b) Rainy\", \"c) Snowy\", \"d) Windy\"],\n",
    "        answers: { a: \"A\", b: \"B\", c: \"C\", d: \"D\" }\n",
    "    },\n",
    "    {\n",
    "        question: \"2. How do you prefer to spend your free time?\",\n",
    "        options: [\"a) Reading\", \"b) Socializing\", \"c) Sports\", \"d) Traveling\"],\n",
    "        answers: { a: \"A\", b: \"B\", c: \"C\", d: \"D\" }\n",
    "    },\n",
    "    {\n",
    "        question: \"3. What's your ideal vacation?\",\n",
    "        options: [\"a) Beach\", \"b) Mountains\", \"c) City\", \"d) Countryside\"],\n",
    "        answers: { a: \"A\", b: \"B\", c: \"C\", d: \"D\" }\n",
    "    },\n",
    "    {\n",
    "        question: \"4. How do you handle stress?\",\n",
    "        options: [\"a) Exercise\", \"b) Meditation\", \"c) Talk to friends\", \"d) Distract myself\"],\n",
    "        answers: { a: \"A\", b: \"B\", c: \"C\", d: \"D\" }\n",
    "    },\n",
    "    {\n",
    "        question: \"5. What motivates you the most?\",\n",
    "        options: [\"a) Success\", \"b) Relationships\", \"c) Adventure\", \"d) Knowledge\"],\n",
    "        answers: { a: \"A\", b: \"B\", c: \"C\", d: \"D\" }\n",
    "    },\n",
    "    {\n",
    "        question: \"6. How do you make decisions?\",\n",
    "        options: [\"a) Carefully analyze\", \"b) Follow my gut\", \"c) Ask others\", \"d) Look for excitement\"],\n",
    "        answers: { a: \"A\", b: \"B\", c: \"C\", d: \"D\" }\n",
    "    },\n",
    "    {\n",
    "        question: \"7. What's your favorite movie genre?\",\n",
    "        options: [\"a) Comedy\", \"b) Drama\", \"c) Action\", \"d) Documentary\"],\n",
    "        answers: { a: \"A\", b: \"B\", c: \"C\", d: \"D\" }\n",
    "    },\n",
    "    {\n",
    "        question: \"8. How do you approach new challenges?\",\n",
    "        options: [\"a) Methodically\", \"b) With enthusiasm\", \"c) Cautiously\", \"d) Fearlessly\"],\n",
    "        answers: { a: \"A\", b: \"B\", c: \"C\", d: \"D\" }\n",
    "    },\n",
    "    {\n",
    "        question: \"9. What's your preferred social setting?\",\n",
    "        options: [\"a) Small gatherings\", \"b) Big parties\", \"c) One-on-one\", \"d) Solo\"],\n",
    "        answers: { a: \"A\", b: \"B\", c: \"C\", d: \"D\" }\n",
    "    },\n",
    "    {\n",
    "        question: \"10. How do you view change?\",\n",
    "        options: [\"a) As an opportunity\", \"b) As a challenge\", \"c) As unsettling\", \"d) As a chance to grow\"],\n",
    "        answers: { a: \"A\", b: \"B\", c: \"C\", d: \"D\" }\n",
    "    }\n",
    "];\n",
    "function getPersonalityType(answers) {\n",
    "    let scores = { A: 0, B: 0, C: 0, D: 0 };\n",
    "\n",
    "    answers.forEach(answer => {\n",
    "        if (answer in scores) {\n",
    "            scores[answer]++;\n",
    "        }\n",
    "    });\n",
    "    const maxScore = Math.max(scores.A, scores.B, scores.C, scores.D);\n",
    "    const personalityTypes = [];\n",
    "    \n",
    "    for (let key in scores) {\n",
    "        if (scores[key] === maxScore) {\n",
    "            personalityTypes.push(key);\n",
    "        }\n",
    "    }\n",
    "\n",
    "    if (personalityTypes.includes(\"A\")) return \"You are a thoughtful person.\";\n",
    "    if (personalityTypes.includes(\"B\")) return \"You are outgoing and enjoy being around others.\";\n",
    "    if (personalityTypes.includes(\"C\")) return \"You are adventurous and loving.\";\n",
    "    if (personalityTypes.includes(\"D\")) return \"You are a seeker of knowledge and experiences.\";\n",
    "}\n",
    "function runQuiz() {\n",
    "    const answers = [];\n",
    "    for (let i = 0; i < questions.length; i++) {\n",
    "        const q = questions[i];\n",
    "        const answer = prompt(`${q.question}\\n${q.options.join(\"\\n\")}`);\n",
    "        answers.push(answer.toLowerCase());\n",
    "    }\n",
    "\n",
    "    const personalityResult = getPersonalityType(answers);\n",
    "    alert(personalityResult);\n",
    "}\n",
    "runQuiz();\n"
   ]
  }
 ],
 "metadata": {
  "kernelspec": {
   "display_name": "venv",
   "language": "python",
   "name": "python3"
  },
  "language_info": {
   "codemirror_mode": {
    "name": "ipython",
    "version": 3
   },
   "file_extension": ".py",
   "mimetype": "text/x-python",
   "name": "python",
   "nbconvert_exporter": "python",
   "pygments_lexer": "ipython3",
   "version": "3.12.6"
  }
 },
 "nbformat": 4,
 "nbformat_minor": 2
}
