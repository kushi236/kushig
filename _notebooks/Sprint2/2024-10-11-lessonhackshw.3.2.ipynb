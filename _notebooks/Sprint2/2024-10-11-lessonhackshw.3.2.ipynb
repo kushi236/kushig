{
 "cells": [
  {
   "cell_type": "markdown",
   "metadata": {},
   "source": [
    "---\n",
    "layout: post\n",
    "title: Homeworks 3.2\n",
    "courses: {compsci: {week: 7}}\n",
    "type: hacks\n",
    "toc: False\n",
    "---"
   ]
  },
  {
   "cell_type": "markdown",
   "metadata": {
    "vscode": {
     "languageId": "plaintext"
    }
   },
   "source": [
    "Popcorn Hack 1 Python: Popcorn Hack!"
   ]
  },
  {
   "cell_type": "code",
   "execution_count": 3,
   "metadata": {},
   "outputs": [
    {
     "name": "stdout",
     "output_type": "stream",
     "text": [
      "Initial Set: {1, 2, 3, 4, 5}\n",
      "After Adding 6: {1, 2, 3, 4, 5, 6}\n",
      "After Removing 2: {1, 3, 4, 5, 6}\n",
      "After Union with {7, 8, 9}: {1, 3, 4, 5, 6, 7, 8, 9}\n",
      "After Clearing the Set: set()\n",
      "Set with Duplicates: {1, 2, 3, 4}\n",
      "Length of Set with Duplicates: 4\n"
     ]
    }
   ],
   "source": [
    "# Step 1: Create a Set\n",
    "my_set = {1, 2, 3, 4, 5}\n",
    "print(\"Initial Set:\", my_set)\n",
    "\n",
    "# Step 2: Add an Element\n",
    "my_set.add(6)\n",
    "print(\"After Adding 6:\", my_set)\n",
    "\n",
    "# Step 3: Remove an Element\n",
    "my_set.discard(2)  # Using discard to avoid KeyError if 2 is not in the set\n",
    "print(\"After Removing 2:\", my_set)\n",
    "\n",
    "# Step 4: Union of Sets\n",
    "another_set = {7, 8, 9}\n",
    "my_set = my_set.union(another_set)\n",
    "print(\"After Union with {7, 8, 9}:\", my_set)\n",
    "\n",
    "# Step 5: Clear the Set\n",
    "my_set.clear()\n",
    "print(\"After Clearing the Set:\", my_set)\n",
    "\n",
    "# Bonus: Create a set with duplicates\n",
    "duplicate_set = {1, 2, 2, 3, 3, 4}\n",
    "print(\"Set with Duplicates:\", duplicate_set)\n",
    "print(\"Length of Set with Duplicates:\", len(duplicate_set))\n"
   ]
  },
  {
   "cell_type": "markdown",
   "metadata": {},
   "source": [
    "Popcorn Hack 2 Python"
   ]
  },
  {
   "cell_type": "code",
   "execution_count": 5,
   "metadata": {},
   "outputs": [
    {
     "name": "stdout",
     "output_type": "stream",
     "text": [
      "Original String: Learning Python is not fun\n",
      "Length of the String: 26\n",
      "Extracted Word: Python\n",
      "Uppercase String: LEARNING PYTHON IS NOT FUN\n",
      "Replaced String: Learning Python is not good\n",
      "Reversed String: nuf ton si nohtyP gninraeL\n"
     ]
    }
   ],
   "source": [
    "# Step 1: Create a String\n",
    "my_string = \"Learning Python is not fun\"\n",
    "print(\"Original String:\", my_string)\n",
    "\n",
    "# Step 2: String Length\n",
    "string_length = len(my_string)\n",
    "print(\"Length of the String:\", string_length)\n",
    "\n",
    "# Step 3: String Slicing\n",
    "extracted_word = my_string[9:15]  # Extracting \"Python\"\n",
    "print(\"Extracted Word:\", extracted_word)\n",
    "\n",
    "# Step 4: String Uppercase\n",
    "uppercase_string = my_string.upper()\n",
    "print(\"Uppercase String:\", uppercase_string)\n",
    "\n",
    "# Step 5: String Replace\n",
    "replaced_string = my_string.replace(\"fun\", \"good\")\n",
    "print(\"Replaced String:\", replaced_string)\n",
    "\n",
    "# Bonus: Reverse the String using slicing\n",
    "reversed_string = my_string[::-1]\n",
    "print(\"Reversed String:\", reversed_string)\n"
   ]
  },
  {
   "cell_type": "markdown",
   "metadata": {},
   "source": [
    "Popcorn Hack 3 Python"
   ]
  },
  {
   "cell_type": "code",
   "execution_count": 6,
   "metadata": {},
   "outputs": [
    {
     "name": "stdout",
     "output_type": "stream",
     "text": [
      "Original List: [3, 5, 7, 9, 11]\n",
      "Third Element: 7\n",
      "Modified List (Changed 5 to 6): [3, 6, 7, 9, 11]\n",
      "List After Appending 13: [3, 6, 7, 9, 11, 13]\n",
      "List After Removing 9: [3, 6, 7, 11, 13]\n",
      "Sorted List in Descending Order: [13, 11, 7, 6, 3]\n"
     ]
    }
   ],
   "source": [
    "# Step 1: Create a List\n",
    "numbers = [3, 5, 7, 9, 11]\n",
    "print(\"Original List:\", numbers)\n",
    "\n",
    "# Step 2: Access an Element\n",
    "third_element = numbers[2]  # Accessing the third element (index 2)\n",
    "print(\"Third Element:\", third_element)\n",
    "\n",
    "# Step 3: Modify an Element\n",
    "numbers[1] = 6  # Changing the second element (index 1) to 6\n",
    "print(\"Modified List (Changed 5 to 6):\", numbers)\n",
    "\n",
    "# Step 4: Add an Element\n",
    "numbers.append(13)  # Appending 13 to the list\n",
    "print(\"List After Appending 13:\", numbers)\n",
    "\n",
    "# Step 5: Remove an Element\n",
    "numbers.remove(9)  # Removing the element 9 from the list\n",
    "print(\"List After Removing 9:\", numbers)\n",
    "\n",
    "# Bonus: Sort the list in descending order\n",
    "numbers.sort(reverse=True)\n",
    "print(\"Sorted List in Descending Order:\", numbers)\n"
   ]
  },
  {
   "cell_type": "markdown",
   "metadata": {},
   "source": [
    "Popcorn Hack 4 Python"
   ]
  },
  {
   "cell_type": "code",
   "execution_count": 7,
   "metadata": {},
   "outputs": [
    {
     "name": "stdout",
     "output_type": "stream",
     "text": [
      "Personal Info Dictionary: {'name': 'kushi gade', 'email': 'kushi.gade@example.com', 'phone number': '123-456-7890'}\n",
      "My Name is: kushi gade\n",
      "Length of the Dictionary: 3\n",
      "Type of the Dictionary: <class 'dict'>\n",
      "\n",
      "Additional Info Dictionary: {'name': 'Maraym Abdul-Azkz', 'email': 'Maryam.Abdul.Azkzh@example.com', 'phone number': '098-765-4321'}\n",
      "My Name is: Maraym Abdul-Azkz\n"
     ]
    }
   ],
   "source": [
    "# Step 1: Create a Dictionary\n",
    "personal_info = {\n",
    "    \"name\": \"kushi gade\",\n",
    "    \"email\": \"kushi.gade@example.com\",\n",
    "    \"phone number\": \"123-456-7890\"\n",
    "}\n",
    "\n",
    "# Step 2: Print out the Dictionary\n",
    "print(\"Personal Info Dictionary:\", personal_info)\n",
    "\n",
    "# Step 3: Print out the name from your dictionary\n",
    "print(\"My Name is:\", personal_info[\"name\"])\n",
    "\n",
    "# Step 4: Print the Length\n",
    "print(\"Length of the Dictionary:\", len(personal_info))\n",
    "\n",
    "# Step 5: Print the Type\n",
    "print(\"Type of the Dictionary:\", type(personal_info))\n",
    "\n",
    "# Bonus: Add another dictionary\n",
    "additional_info = {\n",
    "    \"name\": \"Maraym Abdul-Azkz\",\n",
    "    \"email\": \"Maryam.Abdul.Azkzh@example.com\",\n",
    "    \"phone number\": \"098-765-4321\"\n",
    "}\n",
    "\n",
    "# Print values from the additional dictionary\n",
    "print(\"\\nAdditional Info Dictionary:\", additional_info)\n",
    "print(\"My Name is:\", additional_info[\"name\"])\n"
   ]
  },
  {
   "cell_type": "markdown",
   "metadata": {},
   "source": [
    "Homework Hacks Python Part 1"
   ]
  },
  {
   "cell_type": "code",
   "execution_count": 8,
   "metadata": {},
   "outputs": [
    {
     "name": "stdout",
     "output_type": "stream",
     "text": [
      "{'full_name': 'Kushi Gade', 'years': 30, 'location': 'New York', 'favorite_food': 'Pizza'}\n"
     ]
    }
   ],
   "source": [
    "# Part 1: Create Personal Info (dict)\n",
    "personal_info = {\n",
    "    \"full_name\": \"Kushi Gade\",  # String\n",
    "    \"years\": 30,                   # Integer\n",
    "    \"location\": \"New York\",        # String\n",
    "    \"favorite_food\": \"Pizza\"       # String\n",
    "}\n",
    "\n",
    "# Print the personal_info dictionary\n",
    "print(personal_info)\n"
   ]
  },
  {
   "cell_type": "markdown",
   "metadata": {},
   "source": [
    "Homework hacks Python Part 2"
   ]
  },
  {
   "cell_type": "code",
   "execution_count": 9,
   "metadata": {},
   "outputs": [
    {
     "name": "stdout",
     "output_type": "stream",
     "text": [
      "['Reading', 'Hiking', 'Cooking']\n"
     ]
    }
   ],
   "source": [
    "# Part 2: Create a List of Activities (list)\n",
    "activities = [\"Reading\", \"Hiking\", \"Cooking\"]  \n",
    "\n",
    "# Print the activities list\n",
    "print(activities)\n"
   ]
  },
  {
   "cell_type": "markdown",
   "metadata": {},
   "source": [
    "Homework hacks Python part 3"
   ]
  },
  {
   "cell_type": "code",
   "execution_count": 10,
   "metadata": {},
   "outputs": [
    {
     "name": "stdout",
     "output_type": "stream",
     "text": [
      "Activities List: ['Hiking', 'Reading', 'Cooking']\n",
      "Updated Personal Info: {'full_name': 'Kushi Gade', 'years': 30, 'location': 'New York', 'favorite_food': 'Pizza', 'activities': ['Hiking', 'Reading', 'Cooking']}\n"
     ]
    }
   ],
   "source": [
    "# Part 1: Create Personal Info (dict)\n",
    "personal_info = {\n",
    "    \"full_name\": \"Kushi Gade\",\n",
    "    \"years\": 30,\n",
    "    \"location\": \"New York\",\n",
    "    \"favorite_food\": \"Pizza\"\n",
    "}\n",
    "\n",
    "# Part 2: Create a List of Activities (list)\n",
    "activities = [\"Hiking\", \"Reading\", \"Cooking\"]\n",
    "print(\"Activities List:\", activities)\n",
    "\n",
    "# Part 3: Add Activities to Personal Info (dict and list)\n",
    "personal_info[\"activities\"] = activities\n",
    "\n",
    "# Print the updated personal_info dictionary\n",
    "print(\"Updated Personal Info:\", personal_info)\n"
   ]
  },
  {
   "cell_type": "markdown",
   "metadata": {},
   "source": [
    "Homework hacks Python part 4"
   ]
  },
  {
   "cell_type": "code",
   "execution_count": 11,
   "metadata": {},
   "outputs": [
    {
     "name": "stdout",
     "output_type": "stream",
     "text": [
      "Activities List: ['Hiking', 'Reading', 'Cooking']\n",
      "Updated Personal Info: {'full_name': 'Kushi Gade', 'years': 30, 'location': 'New York', 'favorite_food': 'Pizza', 'activities': ['Hiking', 'Reading', 'Cooking']}\n",
      "Is Hiking available today? True\n"
     ]
    }
   ],
   "source": [
    "# Part 1: Create Personal Info (dict)\n",
    "personal_info = {\n",
    "    \"full_name\": \"Kushi Gade\",\n",
    "    \"years\": 30,\n",
    "    \"location\": \"New York\",\n",
    "    \"favorite_food\": \"Pizza\"\n",
    "}\n",
    "\n",
    "# Part 2: Create a List of Activities (list)\n",
    "activities = [\"Hiking\", \"Reading\", \"Cooking\"]\n",
    "print(\"Activities List:\", activities)\n",
    "\n",
    "# Part 3: Add Activities to Personal Info (dict and list)\n",
    "personal_info[\"activities\"] = activities\n",
    "print(\"Updated Personal Info:\", personal_info)\n",
    "\n",
    "# Part 4: Check Availability of an Activity (bool)\n",
    "activity_to_check = \"Hiking\"  \n",
    "activity_available = True  # Set to True or False based on availability\n",
    "\n",
    "# Print message about activity availability\n",
    "print(f\"Is {activity_to_check} available today? {activity_available}\")\n"
   ]
  },
  {
   "cell_type": "markdown",
   "metadata": {},
   "source": [
    "Homework hacks Python part 5"
   ]
  },
  {
   "cell_type": "code",
   "execution_count": 12,
   "metadata": {},
   "outputs": [
    {
     "name": "stdout",
     "output_type": "stream",
     "text": [
      "Activities List: ['Hiking', 'Reading', 'Cooking']\n",
      "Updated Personal Info: {'full_name': 'Kushi Gade', 'years': 30, 'location': 'New York', 'favorite_food': 'Pizza', 'activities': ['Hiking', 'Reading', 'Cooking']}\n",
      "Is Hiking available today? True\n",
      "I have 3 activities.\n"
     ]
    }
   ],
   "source": [
    "# Part 1: Create Personal Info (dict)\n",
    "personal_info = {\n",
    "    \"full_name\": \"Kushi Gade\",\n",
    "    \"years\": 30,\n",
    "    \"location\": \"New York\",\n",
    "    \"favorite_food\": \"Pizza\"\n",
    "}\n",
    "\n",
    "# Part 2: Create a List of Activities (list)\n",
    "activities = [\"Hiking\", \"Reading\", \"Cooking\"]\n",
    "print(\"Activities List:\", activities)\n",
    "\n",
    "# Part 3: Add Activities to Personal Info (dict and list)\n",
    "personal_info[\"activities\"] = activities\n",
    "print(\"Updated Personal Info:\", personal_info)\n",
    "\n",
    "# Part 4: Check Availability of an Activity (bool)\n",
    "activity_to_check = \"Hiking\"  \n",
    "activity_available = True  # Set to True or False based on availability\n",
    "\n",
    "# Print message about activity availability\n",
    "print(f\"Is {activity_to_check} available today? {activity_available}\")\n",
    "\n",
    "# Part 5: Total Number of Activities (int)\n",
    "total_activities = len(activities)  # Count the number of activities\n",
    "\n",
    "# Print message about total activities\n",
    "print(f\"I have {total_activities} activities.\")\n"
   ]
  },
  {
   "cell_type": "markdown",
   "metadata": {},
   "source": [
    "Homework hacks Python part 6"
   ]
  },
  {
   "cell_type": "code",
   "execution_count": 13,
   "metadata": {},
   "outputs": [
    {
     "name": "stdout",
     "output_type": "stream",
     "text": [
      "Activities List: ['Hiking', 'Reading', 'Cooking']\n",
      "Updated Personal Info: {'full_name': 'Kushi Gade', 'years': 30, 'location': 'New York', 'favorite_food': 'Pizza', 'activities': ['Hiking', 'Reading', 'Cooking']}\n",
      "Is Hiking available today? True\n",
      "I have 3 activities.\n",
      "Favorite Activities: ('Hiking', 'Reading')\n"
     ]
    }
   ],
   "source": [
    "# Part 1: Create Personal Info (dict)\n",
    "personal_info = {\n",
    "    \"full_name\": \"Kushi Gade\",\n",
    "    \"years\": 30,\n",
    "    \"location\": \"New York\",\n",
    "    \"favorite_food\": \"Pizza\"\n",
    "}\n",
    "\n",
    "# Part 2: Create a List of Activities (list)\n",
    "activities = [\"Hiking\", \"Reading\", \"Cooking\"]\n",
    "print(\"Activities List:\", activities)\n",
    "\n",
    "# Part 3: Add Activities to Personal Info (dict and list)\n",
    "personal_info[\"activities\"] = activities\n",
    "print(\"Updated Personal Info:\", personal_info)\n",
    "\n",
    "# Part 4: Check Availability of an Activity (bool)\n",
    "activity_to_check = \"Hiking\"  \n",
    "activity_available = True  # Set to True or False based on availability\n",
    "\n",
    "# Print message about activity availability\n",
    "print(f\"Is {activity_to_check} available today? {activity_available}\")\n",
    "\n",
    "# Part 5: Total Number of Activities (int)\n",
    "total_activities = len(activities)  # Count the number of activities\n",
    "\n",
    "# Print message about total activities\n",
    "print(f\"I have {total_activities} activities.\")\n",
    "\n",
    "# Part 6: Favorite Activities (tuple)\n",
    "favorite_activities = (\"Hiking\", \"Reading\")  \n",
    "print(\"Favorite Activities:\", favorite_activities)\n"
   ]
  },
  {
   "cell_type": "markdown",
   "metadata": {},
   "source": [
    "Homework hacks Python part 7"
   ]
  },
  {
   "cell_type": "code",
   "execution_count": 14,
   "metadata": {},
   "outputs": [
    {
     "name": "stdout",
     "output_type": "stream",
     "text": [
      "Activities List: ['Hiking', 'Reading', 'Cooking']\n",
      "Updated Personal Info: {'full_name': 'Kushi Gade', 'years': 30, 'location': 'New York', 'favorite_food': 'Pizza', 'activities': ['Hiking', 'Reading', 'Cooking']}\n",
      "Is Hiking available today? True\n",
      "I have 3 activities.\n",
      "Favorite Activities: ('Hiking', 'Reading')\n",
      "Skills Set: {'Problem Solving', 'Python', 'Communication'}\n"
     ]
    }
   ],
   "source": [
    "# Part 1: Create Personal Info (dict)\n",
    "personal_info = {\n",
    "    \"full_name\": \"Kushi Gade\",\n",
    "    \"years\": 30,\n",
    "    \"location\": \"New York\",\n",
    "    \"favorite_food\": \"Pizza\"\n",
    "}\n",
    "\n",
    "# Part 2: Create a List of Activities (list)\n",
    "activities = [\"Hiking\", \"Reading\", \"Cooking\"]\n",
    "print(\"Activities List:\", activities)\n",
    "\n",
    "# Part 3: Add Activities to Personal Info (dict and list)\n",
    "personal_info[\"activities\"] = activities\n",
    "print(\"Updated Personal Info:\", personal_info)\n",
    "\n",
    "# Part 4: Check Availability of an Activity (bool)\n",
    "activity_to_check = \"Hiking\" \n",
    "activity_available = True  # Set to True or False based on availability\n",
    "\n",
    "# Print message about activity availability\n",
    "print(f\"Is {activity_to_check} available today? {activity_available}\")\n",
    "\n",
    "# Part 5: Total Number of Activities (int)\n",
    "total_activities = len(activities)  # Count the number of activities\n",
    "\n",
    "# Print message about total activities\n",
    "print(f\"I have {total_activities} activities.\")\n",
    "\n",
    "# Part 6: Favorite Activities (tuple)\n",
    "favorite_activities = (\"Hiking\", \"Reading\")  \n",
    "print(\"Favorite Activities:\", favorite_activities)\n",
    "\n",
    "# Part 7: Add a New Set of Skills (set)\n",
    "skills = {\"Python\", \"Communication\", \"Problem Solving\"}  # Create a set of unique skills\n",
    "print(\"Skills Set:\", skills)  # Print the set of skills\n"
   ]
  },
  {
   "cell_type": "markdown",
   "metadata": {},
   "source": [
    "Homework hacks Python part 8"
   ]
  },
  {
   "cell_type": "code",
   "execution_count": 15,
   "metadata": {},
   "outputs": [
    {
     "name": "stdout",
     "output_type": "stream",
     "text": [
      "{'painting', 'coding', 'cooking'}\n"
     ]
    }
   ],
   "source": [
    "# Part 7: Add a New Set of Skills (set)\n",
    "skills = {\"coding\", \"painting\", \"cooking\"}  # Added random skills\n",
    "print(skills)\n"
   ]
  },
  {
   "cell_type": "markdown",
   "metadata": {},
   "source": [
    "Homework hacks Python part 9"
   ]
  },
  {
   "cell_type": "code",
   "execution_count": 16,
   "metadata": {},
   "outputs": [
    {
     "name": "stdout",
     "output_type": "stream",
     "text": [
      "The total cost to develop all activities and skills is: $55.00\n"
     ]
    }
   ],
   "source": [
    "activities = [\"hiking\", \"swimming\", \"reading\"]  \n",
    "skills = {\"coding\", \"painting\", \"cooking\", \"photography\"}  \n",
    "\n",
    "# Cost definitions\n",
    "activity_cost = 5.0  # Cost per activity\n",
    "skill_cost = 10.0    # Cost per skill\n",
    "\n",
    "# Calculate total cost\n",
    "total_cost = (len(activities) * activity_cost) + (len(skills) * skill_cost)\n",
    "\n",
    "# Print total cost\n",
    "print(f\"The total cost to develop all activities and skills is: ${total_cost:.2f}\")\n"
   ]
  },
  {
   "cell_type": "markdown",
   "metadata": {},
   "source": [
    "Javascript Popcorn hack 1"
   ]
  },
  {
   "cell_type": "code",
   "execution_count": 17,
   "metadata": {
    "vscode": {
     "languageId": "javascript"
    }
   },
   "outputs": [
    {
     "data": {
      "application/javascript": "// Step 1: Create Set1 with 3 random numbers\nlet Set1 = new Set([12, 25, 38]);\nconsole.log(\"Set1:\", Set1);  // Log Set1\n\n// Step 2: Create Set2 with different 3 random numbers\nlet Set2 = new Set([47, 52, 64]);\nconsole.log(\"Set2:\", Set2);  // Log Set2\n\n// Step 3: Add a random number to Set1\nSet1.add(99);\nconsole.log(\"Set1 after adding 99:\", Set1);  // Log Set1 after adding\n\n// Step 4: Remove the 1st number from Set1 (in this case, 12)\nSet1.delete(12);\nconsole.log(\"Set1 after removing 12:\", Set1);  // Log Set1 after removing\n\n// Step 5: Log the union of both Set1 and Set2\nlet unionSet = new Set([...Set1, ...Set2]);\nconsole.log(\"Union of Set1 and Set2:\", unionSet);  // Log the union of both sets\n",
      "text/plain": [
       "<IPython.core.display.Javascript object>"
      ]
     },
     "metadata": {},
     "output_type": "display_data"
    }
   ],
   "source": [
    "%%js\n",
    "// Step 1: Create Set1 with 3 random numbers\n",
    "let Set1 = new Set([12, 25, 38]);\n",
    "console.log(\"Set1:\", Set1);  // Log Set1\n",
    "\n",
    "// Step 2: Create Set2 with different 3 random numbers\n",
    "let Set2 = new Set([47, 52, 64]);\n",
    "console.log(\"Set2:\", Set2);  // Log Set2\n",
    "\n",
    "// Step 3: Add a random number to Set1\n",
    "Set1.add(99);\n",
    "console.log(\"Set1 after adding 99:\", Set1);  // Log Set1 after adding\n",
    "\n",
    "// Step 4: Remove the 1st number from Set1 (in this case, 12)\n",
    "Set1.delete(12);\n",
    "console.log(\"Set1 after removing 12:\", Set1);  // Log Set1 after removing\n",
    "\n",
    "// Step 5: Log the union of both Set1 and Set2\n",
    "let unionSet = new Set([...Set1, ...Set2]);\n",
    "console.log(\"Union of Set1 and Set2:\", unionSet);  // Log the union of both sets\n"
   ]
  },
  {
   "cell_type": "markdown",
   "metadata": {},
   "source": [
    "Javascript Popcorn hack 2"
   ]
  },
  {
   "cell_type": "code",
   "execution_count": 18,
   "metadata": {
    "vscode": {
     "languageId": "javascript"
    }
   },
   "outputs": [
    {
     "data": {
      "application/javascript": "// Step 1: Create a Dictionary called \"application\"\nlet application = {\n    name: \"Kushi\",\n    age: 30,\n    experiences: [\"software developer\", \"data analyst\", \"project manager\"],\n    money: 1500.50\n};\n\n// Step 2: Log the dictionary to make sure it works\nconsole.log(\"Application Dictionary:\", application);  // Log the entire dictionary\n\n// Step 3: Log only the dictionary's money\nconsole.log(\"Money:\", application.money);  // Log only the money\n",
      "text/plain": [
       "<IPython.core.display.Javascript object>"
      ]
     },
     "metadata": {},
     "output_type": "display_data"
    }
   ],
   "source": [
    "%%js\n",
    "// Step 1: Create a Dictionary called \"application\"\n",
    "let application = {\n",
    "    name: \"Kushi\",\n",
    "    age: 30,\n",
    "    experiences: [\"software developer\", \"data analyst\", \"project manager\"],\n",
    "    money: 1500.50\n",
    "};\n",
    "\n",
    "// Step 2: Log the dictionary to make sure it works\n",
    "console.log(\"Application Dictionary:\", application);  // Log the entire dictionary\n",
    "\n",
    "// Step 3: Log only the dictionary's money\n",
    "console.log(\"Money:\", application.money);  // Log only the money\n"
   ]
  },
  {
   "cell_type": "markdown",
   "metadata": {},
   "source": [
    "Javascript Homework Hack"
   ]
  },
  {
   "cell_type": "code",
   "execution_count": 19,
   "metadata": {
    "vscode": {
     "languageId": "javascript"
    }
   },
   "outputs": [
    {
     "data": {
      "application/javascript": "// Step 1: Create an empty dictionary for the applicant\nlet applicant = {};\n\n// Step 2: Predefined inputs for the applicant\napplicant.name = \"Kushi Gade\";  \napplicant.age = \"30\";               \napplicant.experiences = [\"Web Development\", \"Project Management\", \"Graphic Design\"]; // Example experiences\n\n// Step 3: Log the user's input\nconsole.log(\"Applicant Information:\");\nconsole.log(\"Name:\", applicant.name);\nconsole.log(\"Age:\", applicant.age);\nconsole.log(\"Experiences:\", applicant.experiences);\n",
      "text/plain": [
       "<IPython.core.display.Javascript object>"
      ]
     },
     "metadata": {},
     "output_type": "display_data"
    }
   ],
   "source": [
    "%%js\n",
    "// Step 1: Create an empty dictionary for the applicant\n",
    "let applicant = {};\n",
    "\n",
    "// Step 2: Predefined inputs for the applicant\n",
    "applicant.name = \"Kushi Gade\";  \n",
    "applicant.age = \"30\";               \n",
    "applicant.experiences = [\"Web Development\", \"Project Management\", \"Graphic Design\"]; // Example experiences\n",
    "\n",
    "// Step 3: Log the user's input\n",
    "console.log(\"Applicant Information:\");\n",
    "console.log(\"Name:\", applicant.name);\n",
    "console.log(\"Age:\", applicant.age);\n",
    "console.log(\"Experiences:\", applicant.experiences);\n"
   ]
  }
 ],
 "metadata": {
  "kernelspec": {
   "display_name": "venv",
   "language": "python",
   "name": "python3"
  },
  "language_info": {
   "codemirror_mode": {
    "name": "ipython",
    "version": 3
   },
   "file_extension": ".py",
   "mimetype": "text/x-python",
   "name": "python",
   "nbconvert_exporter": "python",
   "pygments_lexer": "ipython3",
   "version": "3.12.6"
  }
 },
 "nbformat": 4,
 "nbformat_minor": 2
}
