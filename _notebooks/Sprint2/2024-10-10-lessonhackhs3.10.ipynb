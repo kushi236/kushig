{
 "cells": [
  {
   "cell_type": "markdown",
   "metadata": {},
   "source": [
    "---\n",
    "layout: post\n",
    "title: Homeworks 3.10\n",
    "courses: {compsci: {week: 7}}\n",
    "type: hacks\n",
    "toc: False\n",
    "---"
   ]
  },
  {
   "cell_type": "markdown",
   "metadata": {},
   "source": [
    "Popcorn Hack: 3.10.1 Hack 1 Javascript\n",
    "\n",
    "Use a_list.append(user_input) to append each item.\n",
    "\n",
    "Use a for loop to print out each item in the list at the end.\n",
    "\n",
    "Exercise: Build a Shopping List with JavaScript\n",
    "\n",
    "In this exercise, you will create a simple shopping list application that allows users to add items to a list and display them at the end.\n",
    "\n"
   ]
  },
  {
   "cell_type": "code",
   "execution_count": 2,
   "metadata": {
    "vscode": {
     "languageId": "javascript"
    }
   },
   "outputs": [
    {
     "data": {
      "application/javascript": "// Initialize an empty array to store the shopping list items\nlet aList = [];\n\n// Continuously prompt the user for input until they type 'q'\nwhile (true) {\n    // Ask the user to enter an item or 'q' to quit\n    let userInput = prompt(\"Enter an item for the shopping list, or type 'q' to quit:\");\n\n    // If the user types 'q', break out of the loop\n    if (userInput.toLowerCase() === 'q') {\n        break;\n    }\n\n    // Append the item to the shopping list array\n    aList.push(userInput);\n\n    // Print the current list after adding each item\n    console.log(\"Current shopping list:\");\n    console.log(aList);\n}\n\n// Once the user quits, display the entire shopping list using a for loop\nconsole.log(\"\\nFinal Shopping List:\");\nfor (let i = 0; i < aList.length; i++) {\n    console.log((i + 1) + \". \" + aList[i]);\n}\n\n",
      "text/plain": [
       "<IPython.core.display.Javascript object>"
      ]
     },
     "metadata": {},
     "output_type": "display_data"
    }
   ],
   "source": [
    "%%js\n",
    "// Initialize an empty array to store the shopping list items\n",
    "let aList = [];\n",
    "\n",
    "// Continuously prompt the user for input until they type 'q'\n",
    "while (true) {\n",
    "    // Ask the user to enter an item or 'q' to quit\n",
    "    let userInput = prompt(\"Enter an item for the shopping list, or type 'q' to quit:\");\n",
    "\n",
    "    // If the user types 'q', break out of the loop\n",
    "    if (userInput.toLowerCase() === 'q') {\n",
    "        break;\n",
    "    }\n",
    "\n",
    "    // Append the item to the shopping list array\n",
    "    aList.push(userInput);\n",
    "\n",
    "    // Print the current list after adding each item\n",
    "    console.log(\"Current shopping list:\");\n",
    "    console.log(aList);\n",
    "}\n",
    "\n",
    "// Once the user quits, display the entire shopping list using a for loop\n",
    "console.log(\"\\nFinal Shopping List:\");\n",
    "for (let i = 0; i < aList.length; i++) {\n",
    "    console.log((i + 1) + \". \" + aList[i]);\n",
    "}\n",
    "\n"
   ]
  }
 ],
 "metadata": {
  "kernelspec": {
   "display_name": "venv",
   "language": "python",
   "name": "python3"
  },
  "language_info": {
   "codemirror_mode": {
    "name": "ipython",
    "version": 3
   },
   "file_extension": ".py",
   "mimetype": "text/x-python",
   "name": "python",
   "nbconvert_exporter": "python",
   "pygments_lexer": "ipython3",
   "version": "3.12.6"
  }
 },
 "nbformat": 4,
 "nbformat_minor": 2
}
